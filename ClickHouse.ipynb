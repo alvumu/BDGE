{
  "nbformat": 4,
  "nbformat_minor": 0,
  "metadata": {
    "colab": {
      "provenance": [],
      "authorship_tag": "ABX9TyM3ZWEna6ZzAVX7MA34Wu4G",
      "include_colab_link": true
    },
    "kernelspec": {
      "name": "python3",
      "display_name": "Python 3"
    },
    "language_info": {
      "name": "python"
    }
  },
  "cells": [
    {
      "cell_type": "markdown",
      "metadata": {
        "id": "view-in-github",
        "colab_type": "text"
      },
      "source": [
        "<a href=\"https://colab.research.google.com/github/alvumu/BDGE/blob/main/ClickHouse.ipynb\" target=\"_parent\"><img src=\"https://colab.research.google.com/assets/colab-badge.svg\" alt=\"Open In Colab\"/></a>"
      ]
    },
    {
      "cell_type": "markdown",
      "source": [
        "# **ClickHouse**\n",
        "\n",
        "ClickHouse representa un sistema de gestión de bases de datos (DBMS) de código abierto, centrado en columnas y diseñado específicamente para el procesamiento analítico en línea (OLAP). Esta herramienta innovadora fue desarrollada por Yandex y actualmente impulsa la segunda plataforma de análisis web más extensa, Yandex Metrica. Destacando como el primer almacén de datos SQL de código abierto, ClickHouse ha logrado igualar y superar la escalabilidad y rendimiento de bases de datos reconocidas como Veryica y Snowflake. Su enfoque columnar, combinado con una eficiente gestión de datos, lo posiciona como una opción destacada para abordar desafíos analíticos en entornos que demandan respuestas rápidas y procesamiento eficaz de grandes volúmenes de datos.\n",
        "\n",
        "\n"
      ],
      "metadata": {
        "id": "kaCRPO0_d5zP"
      }
    },
    {
      "cell_type": "markdown",
      "source": [
        "# Características\n",
        "\n",
        "Algunas de las características que ofrece este sistema de gestión de bases de datos son los siguientes :  \n",
        "\n",
        "* Una base de datos orientada a **columna**, sólo almacena los datos.\n",
        "* Los **datos** se comprimen reduciendo el espacio y se **almacenan** en **disco**\n",
        "* Capaz de **procesar** en **paralelo** los datos exprimiendo las capacidades multicores de los servidores.\n",
        "* Destaca por procesar datos mediante vectores, **optimizando** la **eficiencia** de la CPU\n",
        "* Utiliza el **lenguaje SQL** para ejecución de las sentencias.\n",
        "* Permite **actualizar** los **datos en tiempo real** sin bloqueo.\n",
        "* Proporciona **indexación** por **clave primaria**. Hace posible recuperar la información almacenada para un determinado valor o un rango de valores con muy baja latencia y pocos milisegundos.\n",
        "* Puede trabajar con millones de registros en bruto (sin realizar preprocesamientoo previo de los datos) consiguiendo ejecutar **sentencias sin ninguna latencia**\n",
        "* Soporte de **replicación** e **integridad** de datos.\n",
        "\n"
      ],
      "metadata": {
        "id": "m7DqznlPgyIP"
      }
    },
    {
      "cell_type": "markdown",
      "source": [
        "# Instalación\n",
        "\n",
        "A continuación, se procede a la instalación del software de ClickHouse en un entorno Python, con el objetivo de habilitar su uso en Google Colab. Se proporcionarán instrucciones detalladas sobre los pasos necesarios para lograr una integración exitosa de ClickHouse con Python."
      ],
      "metadata": {
        "id": "8ZDeM58pk7Uf"
      }
    },
    {
      "cell_type": "code",
      "execution_count": 2,
      "metadata": {
        "id": "_Kk5o4nMdbeY",
        "outputId": "1ae13880-8762-4ec3-af86-da5b0139232b",
        "colab": {
          "base_uri": "https://localhost:8080/"
        }
      },
      "outputs": [
        {
          "output_type": "stream",
          "name": "stdout",
          "text": [
            "Collecting clickhouse-connect\n",
            "  Downloading clickhouse_connect-0.6.23-cp310-cp310-manylinux_2_17_x86_64.manylinux2014_x86_64.whl (964 kB)\n",
            "\u001b[?25l     \u001b[90m━━━━━━━━━━━━━━━━━━━━━━━━━━━━━━━━━━━━━━━━\u001b[0m \u001b[32m0.0/964.5 kB\u001b[0m \u001b[31m?\u001b[0m eta \u001b[36m-:--:--\u001b[0m\r\u001b[2K     \u001b[91m━━━━━\u001b[0m\u001b[90m╺\u001b[0m\u001b[90m━━━━━━━━━━━━━━━━━━━━━━━━━━━━━━━━━━\u001b[0m \u001b[32m122.9/964.5 kB\u001b[0m \u001b[31m3.4 MB/s\u001b[0m eta \u001b[36m0:00:01\u001b[0m\r\u001b[2K     \u001b[90m━━━━━━━━━━━━━━━━━━━━━━━━━━━━━━━━━━━━━━━━\u001b[0m \u001b[32m964.5/964.5 kB\u001b[0m \u001b[31m14.3 MB/s\u001b[0m eta \u001b[36m0:00:00\u001b[0m\n",
            "\u001b[?25hRequirement already satisfied: certifi in /usr/local/lib/python3.10/dist-packages (from clickhouse-connect) (2023.11.17)\n",
            "Requirement already satisfied: urllib3>=1.26 in /usr/local/lib/python3.10/dist-packages (from clickhouse-connect) (2.0.7)\n",
            "Requirement already satisfied: pytz in /usr/local/lib/python3.10/dist-packages (from clickhouse-connect) (2023.3.post1)\n",
            "Collecting zstandard (from clickhouse-connect)\n",
            "  Downloading zstandard-0.22.0-cp310-cp310-manylinux_2_17_x86_64.manylinux2014_x86_64.whl (5.4 MB)\n",
            "\u001b[2K     \u001b[90m━━━━━━━━━━━━━━━━━━━━━━━━━━━━━━━━━━━━━━━━\u001b[0m \u001b[32m5.4/5.4 MB\u001b[0m \u001b[31m44.7 MB/s\u001b[0m eta \u001b[36m0:00:00\u001b[0m\n",
            "\u001b[?25hCollecting lz4 (from clickhouse-connect)\n",
            "  Downloading lz4-4.3.3-cp310-cp310-manylinux_2_17_x86_64.manylinux2014_x86_64.whl (1.3 MB)\n",
            "\u001b[2K     \u001b[90m━━━━━━━━━━━━━━━━━━━━━━━━━━━━━━━━━━━━━━━━\u001b[0m \u001b[32m1.3/1.3 MB\u001b[0m \u001b[31m32.3 MB/s\u001b[0m eta \u001b[36m0:00:00\u001b[0m\n",
            "\u001b[?25hInstalling collected packages: zstandard, lz4, clickhouse-connect\n",
            "Successfully installed clickhouse-connect-0.6.23 lz4-4.3.3 zstandard-0.22.0\n",
            "Collecting clickhouse-driver\n",
            "  Downloading clickhouse_driver-0.2.6-cp310-cp310-manylinux_2_17_x86_64.manylinux2014_x86_64.whl (740 kB)\n",
            "\u001b[2K     \u001b[90m━━━━━━━━━━━━━━━━━━━━━━━━━━━━━━━━━━━━━━━━\u001b[0m \u001b[32m740.4/740.4 kB\u001b[0m \u001b[31m7.8 MB/s\u001b[0m eta \u001b[36m0:00:00\u001b[0m\n",
            "\u001b[?25hRequirement already satisfied: pytz in /usr/local/lib/python3.10/dist-packages (from clickhouse-driver) (2023.3.post1)\n",
            "Requirement already satisfied: tzlocal in /usr/local/lib/python3.10/dist-packages (from clickhouse-driver) (5.2)\n",
            "Installing collected packages: clickhouse-driver\n",
            "Successfully installed clickhouse-driver-0.2.6\n"
          ]
        }
      ],
      "source": [
        "!pip install clickhouse-connect\n",
        "!pip install clickhouse-driver"
      ]
    },
    {
      "cell_type": "code",
      "source": [
        "import clickhouse_connect\n",
        "\n",
        "client = clickhouse_connect.get_client(host='fgi402x8e7.europe-west4.gcp.clickhouse.cloud', port=8443, username='default', password='SY_rjdkJKk7oU')"
      ],
      "metadata": {
        "id": "PjvJ4p_UO8rj"
      },
      "execution_count": 3,
      "outputs": []
    },
    {
      "cell_type": "code",
      "execution_count": 7,
      "metadata": {
        "id": "H0XhGi4-UYND"
      },
      "outputs": [],
      "source": [
        "import gzip\n",
        "from urllib.request import Request,urlopen\n",
        "import io\n",
        "import os\n",
        "import os.path as path\n",
        "\n",
        "def download_csv(baseurl, filename):\n",
        "    file = path.abspath(path.join(os.getcwd(),filename))\n",
        "    request = Request(baseurl + filename + '.gz')\n",
        "    response = urlopen(request)\n",
        "    buf = io.BytesIO(response.read())\n",
        "    f = gzip.GzipFile(fileobj=buf)\n",
        "    data = f.read()\n",
        "    with open (filename, 'wb') as ff:\n",
        "      ff.write(data)\n",
        "\n",
        "baseurl = 'https://raw.githubusercontent.com/dsevilla/bdge-data/master/es.stackoverflow/'\n",
        "download_csv(baseurl, 'Posts.csv')\n",
        "download_csv(baseurl, 'Users.csv')\n",
        "download_csv(baseurl, 'Tags.csv')\n",
        "download_csv(baseurl, 'Comments.csv')\n",
        "download_csv(baseurl, 'Votes.csv')"
      ]
    },
    {
      "cell_type": "code",
      "source": [
        "client.query(\"CREATE DATABASE IF NOT EXISTS stackoverflow\")"
      ],
      "metadata": {
        "id": "riWCruHWQkES",
        "outputId": "1ff4a880-48f7-4b26-eec7-3d3e0f9c6c08",
        "colab": {
          "base_uri": "https://localhost:8080/"
        }
      },
      "execution_count": 9,
      "outputs": [
        {
          "output_type": "execute_result",
          "data": {
            "text/plain": [
              "<clickhouse_connect.driver.query.QueryResult at 0x7a49021d76d0>"
            ]
          },
          "metadata": {},
          "execution_count": 9
        }
      ]
    },
    {
      "cell_type": "code",
      "source": [
        "client.query(\"DROP TABLE IF EXISTS stackoverflow.PostsPart\")\n",
        "client.query(\"\"\"\n",
        "CREATE TABLE IF NOT EXISTS stackoverflow.PostsPart\n",
        "(\n",
        "    Id Int32,\n",
        "    AcceptedAnswerId Nullable(Int32) DEFAULT NULL,\n",
        "    AnswerCount Nullable(Int32) DEFAULT 0,\n",
        "    Body String,\n",
        "    ClosedDate Nullable(DateTime) DEFAULT NULL,\n",
        "    CommentCount Nullable(Int32) DEFAULT 0,\n",
        "    CommunityOwnedDate Nullable(DateTime) DEFAULT NULL,\n",
        "    CreationDate Nullable(DateTime) DEFAULT NULL,\n",
        "    FavoriteCount Nullable(Int32) DEFAULT 0,\n",
        "    LastActivityDate Nullable(DateTime) DEFAULT NULL,\n",
        "    LastEditDate Nullable(DateTime) DEFAULT NULL,\n",
        "    LastEditorDisplayName String,\n",
        "    LastEditorUserId Nullable(Int32) DEFAULT NULL,\n",
        "    OwnerDisplayName String,\n",
        "    OwnerUserId Nullable(Int32) DEFAULT NULL,\n",
        "    ParentId Nullable(Int32) DEFAULT NULL,\n",
        "    PostTypeId UInt8,\n",
        "    Score Int32 DEFAULT 0,\n",
        "    Tags String,\n",
        "    Title String,\n",
        "    ViewCount Nullable(Int32) DEFAULT 0\n",
        ") ENGINE = MergeTree\n",
        " PRIMARY KEY Id\n",
        " ORDER BY Id;\"\"\")"
      ],
      "metadata": {
        "id": "t-Qd7tzhVNL_",
        "outputId": "321c4f86-6c2d-49cf-cd44-3b624d464e32",
        "colab": {
          "base_uri": "https://localhost:8080/"
        }
      },
      "execution_count": 30,
      "outputs": [
        {
          "output_type": "execute_result",
          "data": {
            "text/plain": [
              "<clickhouse_connect.driver.query.QueryResult at 0x7a4901fe56c0>"
            ]
          },
          "metadata": {},
          "execution_count": 30
        }
      ]
    },
    {
      "cell_type": "markdown",
      "source": [
        "Tras crear la tabla, se importan que completarán la tabla. Para ello se usa la función **insert_file**"
      ],
      "metadata": {
        "id": "E1v5Ybqv2Zxd"
      }
    },
    {
      "cell_type": "code",
      "source": [
        "from clickhouse_connect.driver.tools import insert_file\n",
        "\n",
        "insert_file(client, 'PostsPart', 'Posts.csv',\n",
        "            settings={'input_format_allow_errors_ratio': .2,\n",
        "                      'input_format_allow_errors_num': 5},\n",
        "            database = \"stackoverflow\")\n"
      ],
      "metadata": {
        "id": "as2GIe_BZYHh",
        "outputId": "6077367a-bd47-4f43-8d94-86c0638515dc",
        "colab": {
          "base_uri": "https://localhost:8080/"
        }
      },
      "execution_count": 31,
      "outputs": [
        {
          "output_type": "execute_result",
          "data": {
            "text/plain": [
              "<clickhouse_connect.driver.summary.QuerySummary at 0x7a4901fe6c20>"
            ]
          },
          "metadata": {},
          "execution_count": 31
        }
      ]
    },
    {
      "cell_type": "markdown",
      "source": [
        "Comprobamos que los datos se han añadido a la tabla correctamente"
      ],
      "metadata": {
        "id": "hf4Wgl2q31R2"
      }
    },
    {
      "cell_type": "code",
      "source": [
        "q = client.query('SELECT count(*) FROM stackoverflow.PostsPart')\n",
        "q.result_columns"
      ],
      "metadata": {
        "id": "EBrZGKYR2w1w",
        "outputId": "b8f0366e-27b3-4aae-b3a8-c40bc60741cd",
        "colab": {
          "base_uri": "https://localhost:8080/"
        }
      },
      "execution_count": 32,
      "outputs": [
        {
          "output_type": "execute_result",
          "data": {
            "text/plain": [
              "[[76278]]"
            ]
          },
          "metadata": {},
          "execution_count": 32
        }
      ]
    },
    {
      "cell_type": "markdown",
      "source": [
        "Se repite el mismo procedimiento para los distintos ficheros\n"
      ],
      "metadata": {
        "id": "jxdXeUTx4DpR"
      }
    },
    {
      "cell_type": "code",
      "source": [
        "client.query(\"DROP TABLE IF EXISTS stackoverflow.Users\")\n",
        "client.query(\"\"\"\n",
        "CREATE TABLE IF NOT EXISTS stackoverflow.Users\n",
        "(\n",
        "    Id Int32,\n",
        "    AboutMe String,\n",
        "    AccountID Int32,\n",
        "    Age Nullable(Int32),\n",
        "    CreationDate Nullable(DateTime),\n",
        "    DisplayName String,\n",
        "    DownVotes Nullable(Int32) DEFAULT 0,\n",
        "    LastAccessDate Nullable(Datetime),\n",
        "    Location String,\n",
        "    ProfileImageUrl String,\n",
        "    Reputation Nullable(Int32) DEFAULT 0,\n",
        "    UpVotes Nullable(Int32) DEFAULT 0,\n",
        "    Views Nullable(Int32) DEFAULT 0,\n",
        "    WebsiteUrl String\n",
        ") ENGINE = MergeTree\n",
        " PRIMARY KEY Id\n",
        " ORDER BY Id;\"\"\")\n",
        "\n",
        "insert_file(client, 'Users', 'Users.csv',\n",
        "            settings={'input_format_allow_errors_ratio': .2,\n",
        "                      'input_format_allow_errors_num': 5},\n",
        "            database = \"stackoverflow\")\n"
      ],
      "metadata": {
        "outputId": "dfb13ca0-fee6-4cd8-a1ff-008dcbae6ee4",
        "colab": {
          "base_uri": "https://localhost:8080/"
        },
        "id": "VrfjWMeh4UO-"
      },
      "execution_count": 33,
      "outputs": [
        {
          "output_type": "execute_result",
          "data": {
            "text/plain": [
              "<clickhouse_connect.driver.summary.QuerySummary at 0x7a4901fe73a0>"
            ]
          },
          "metadata": {},
          "execution_count": 33
        }
      ]
    },
    {
      "cell_type": "code",
      "source": [
        "\n",
        "client.query(\"DROP TABLE IF EXISTS stackoverflow.Tags\")\n",
        "client.query(\"\"\"\n",
        "CREATE TABLE IF NOT EXISTS stackoverflow.Tags\n",
        "(\n",
        "    Id Int32,\n",
        "    Count Int32 DEFAULT 0,\n",
        "    ExcerptPostId Nullable(Int32) DEFAULT NULL,\n",
        "    TagName String,\n",
        "    WikiPostId Nullable(Int32) DEFAULT NULL,\n",
        ") ENGINE = MergeTree()\n",
        " PRIMARY KEY Id\n",
        " ORDER BY Id;\"\"\")\n",
        "\n",
        "insert_file(client, 'Tags', 'Tags.csv',\n",
        "            settings={'input_format_allow_errors_ratio': .2,\n",
        "                      'input_format_allow_errors_num': 5},\n",
        "            database = \"stackoverflow\")\n"
      ],
      "metadata": {
        "id": "EK8fsrsV4XG5",
        "outputId": "86d0ed00-5081-4fad-c3d3-9697b8769e2e",
        "colab": {
          "base_uri": "https://localhost:8080/"
        }
      },
      "execution_count": 34,
      "outputs": [
        {
          "output_type": "execute_result",
          "data": {
            "text/plain": [
              "<clickhouse_connect.driver.summary.QuerySummary at 0x7a4901fe5660>"
            ]
          },
          "metadata": {},
          "execution_count": 34
        }
      ]
    },
    {
      "cell_type": "code",
      "source": [
        "client.query(\"DROP TABLE IF EXISTS stackoverflow.Votes\")\n",
        "client.query(\"\"\"\n",
        "CREATE TABLE IF NOT EXISTS stackoverflow.Votes\n",
        "(\n",
        "    Id Int32,\n",
        "    BountyAmount Int32 DEFAULT 0,\n",
        "    CreationDate Nullable(DateTime) DEFAULT NULL,\n",
        "    PostId Nullable(Int32) DEFAULT NULL,\n",
        "    UserId Nullable(Int32) DEFAULT NULL,\n",
        "    VoteTypeId Int32,\n",
        ") ENGINE = MergeTree()\n",
        " PRIMARY KEY Id\n",
        " ORDER BY Id;\"\"\")\n",
        "\n",
        "insert_file(client, 'Votes', 'Votes.csv',\n",
        "            settings={'input_format_allow_errors_ratio': .2,\n",
        "                      'input_format_allow_errors_num': 5},\n",
        "            database = \"stackoverflow\")"
      ],
      "metadata": {
        "id": "YJM0kUUT535I",
        "outputId": "06d71aa8-cf38-4970-d5b0-b2164168116e",
        "colab": {
          "base_uri": "https://localhost:8080/"
        }
      },
      "execution_count": 35,
      "outputs": [
        {
          "output_type": "execute_result",
          "data": {
            "text/plain": [
              "<clickhouse_connect.driver.summary.QuerySummary at 0x7a4901fe6200>"
            ]
          },
          "metadata": {},
          "execution_count": 35
        }
      ]
    },
    {
      "cell_type": "code",
      "source": [
        "client.query(\"DROP TABLE IF EXISTS stackoverflow.Comments\")\n",
        "client.query(\"\"\"\n",
        "CREATE TABLE IF NOT EXISTS stackoverflow.Comments\n",
        "(\n",
        "    Id Int32,\n",
        "    CreationDate Nullable(DateTime) DEFAULT NULL,\n",
        "    PostId Nullable(Int32) DEFAULT NULL,\n",
        "    Score Int32 DEFAULT 0,\n",
        "    Text String,\n",
        "    UserDisplayName String,\n",
        "    UserId Nullable(Int32) DEFAULT NULL\n",
        "\n",
        ") ENGINE = MergeTree\n",
        "\n",
        " PRIMARY KEY Id\n",
        " ORDER BY Id;\"\"\")\n",
        "\n",
        "insert_file(client, 'Comments', 'Comments.csv',\n",
        "            settings={'input_format_allow_errors_ratio': .2,\n",
        "                      'input_format_allow_errors_num': 5},\n",
        "            database = \"stackoverflow\")"
      ],
      "metadata": {
        "id": "VaoL7sGl6SC4",
        "outputId": "6b4873a7-20ea-41c7-c235-fb7afc474eb1",
        "colab": {
          "base_uri": "https://localhost:8080/"
        }
      },
      "execution_count": 36,
      "outputs": [
        {
          "output_type": "execute_result",
          "data": {
            "text/plain": [
              "<clickhouse_connect.driver.summary.QuerySummary at 0x7a4901fe6620>"
            ]
          },
          "metadata": {},
          "execution_count": 36
        }
      ]
    },
    {
      "cell_type": "code",
      "source": [
        "q = client.query('SELECT count(*) FROM stackoverflow.Users')\n",
        "q.result_columns"
      ],
      "metadata": {
        "id": "4aZfWhOn4L2F",
        "outputId": "2c80482d-1046-4aa1-f61b-bdea3dfd7bb7",
        "colab": {
          "base_uri": "https://localhost:8080/"
        }
      },
      "execution_count": 37,
      "outputs": [
        {
          "output_type": "execute_result",
          "data": {
            "text/plain": [
              "[[49033]]"
            ]
          },
          "metadata": {},
          "execution_count": 37
        }
      ]
    },
    {
      "cell_type": "code",
      "source": [
        "q = client.query('SELECT count(*) FROM stackoverflow.Votes')\n",
        "q.result_columns"
      ],
      "metadata": {
        "id": "IYIxDeeV5wxR",
        "outputId": "e001d6f0-14db-4b7f-ed6e-e21e924d0a23",
        "colab": {
          "base_uri": "https://localhost:8080/"
        }
      },
      "execution_count": 39,
      "outputs": [
        {
          "output_type": "execute_result",
          "data": {
            "text/plain": [
              "[[165621]]"
            ]
          },
          "metadata": {},
          "execution_count": 39
        }
      ]
    },
    {
      "cell_type": "code",
      "source": [
        "q = client.query('SELECT count(*) FROM stackoverflow.Tags')\n",
        "q.result_columns"
      ],
      "metadata": {
        "id": "6IZnUm5e8LXR",
        "outputId": "de2240c1-10a0-4cd0-a66d-e521de97436f",
        "colab": {
          "base_uri": "https://localhost:8080/"
        }
      },
      "execution_count": 40,
      "outputs": [
        {
          "output_type": "execute_result",
          "data": {
            "text/plain": [
              "[[1554]]"
            ]
          },
          "metadata": {},
          "execution_count": 40
        }
      ]
    },
    {
      "cell_type": "code",
      "source": [
        "q = client.query('SELECT count(*) FROM stackoverflow.Comments')\n",
        "q.result_columns"
      ],
      "metadata": {
        "id": "_z0_k9vE8PYy",
        "outputId": "9b07ec6f-1243-4fca-b272-e46f6596774e",
        "colab": {
          "base_uri": "https://localhost:8080/"
        }
      },
      "execution_count": 41,
      "outputs": [
        {
          "output_type": "execute_result",
          "data": {
            "text/plain": [
              "[[123662]]"
            ]
          },
          "metadata": {},
          "execution_count": 41
        }
      ]
    },
    {
      "cell_type": "markdown",
      "source": [
        "Referencias\n",
        "\n",
        "https://vasexperts.com/es/resources/glossary/clickhouse/ (ClickHouse)\n",
        "\n",
        "https://www.adictosaltrabajo.com/2019/02/18/introduccion-a-clickhouse/#01 (Caracteristicas)\n",
        "\n",
        "https://clickhouse.com/docs/en/integrations/python (Instalación)\n",
        "\n",
        "\n",
        "https://www.percona.com/blog/clickhouse-new-opensource-columnar-database/\n",
        "\n",
        "https://www.linkedin.com/pulse/clickhouse-un-motor-de-base-sql-super-rápid-ezequiel-paolillo/?originalSubdomain=es\n"
      ],
      "metadata": {
        "id": "yV9OcNqLe1XM"
      }
    }
  ]
}