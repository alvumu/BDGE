{
  "nbformat": 4,
  "nbformat_minor": 0,
  "metadata": {
    "colab": {
      "provenance": [],
      "authorship_tag": "ABX9TyOVdFTf1ynkruGyrwJR0UyO",
      "include_colab_link": true
    },
    "kernelspec": {
      "name": "python3",
      "display_name": "Python 3"
    },
    "language_info": {
      "name": "python"
    }
  },
  "cells": [
    {
      "cell_type": "markdown",
      "metadata": {
        "id": "view-in-github",
        "colab_type": "text"
      },
      "source": [
        "<a href=\"https://colab.research.google.com/github/alvumu/BDGE/blob/main/ClickHouse.ipynb\" target=\"_parent\"><img src=\"https://colab.research.google.com/assets/colab-badge.svg\" alt=\"Open In Colab\"/></a>"
      ]
    },
    {
      "cell_type": "markdown",
      "source": [
        "# **ClickHouse**\n",
        "\n",
        "ClickHouse representa un sistema de gestión de bases de datos (DBMS) de código abierto, centrado en columnas y diseñado específicamente para el procesamiento analítico en línea (OLAP). Esta herramienta innovadora fue desarrollada por Yandex y actualmente impulsa la segunda plataforma de análisis web más extensa, Yandex Metrica. Destacando como el primer almacén de datos SQL de código abierto, ClickHouse ha logrado igualar y superar la escalabilidad y rendimiento de bases de datos reconocidas como Veryica y Snowflake. Su enfoque columnar, combinado con una eficiente gestión de datos, lo posiciona como una opción destacada para abordar desafíos analíticos en entornos que demandan respuestas rápidas y procesamiento eficaz de grandes volúmenes de datos.\n",
        "\n",
        "\n"
      ],
      "metadata": {
        "id": "kaCRPO0_d5zP"
      }
    },
    {
      "cell_type": "markdown",
      "source": [
        "# Características\n",
        "\n",
        "Algunas de las características que ofrece este sistema de gestión de bases de datos son los siguientes :  \n",
        "\n",
        "* Una base de datos orientada a **columna**, sólo almacena los datos.\n",
        "* Los **datos** se comprimen reduciendo el espacio y se **almacenan** en **disco**\n",
        "* Capaz de **procesar** en **paralelo** los datos exprimiendo las capacidades multicores de los servidores.\n",
        "* Destaca por procesar datos mediante vectores, **optimizando** la **eficiencia** de la CPU\n",
        "* Utiliza el **lenguaje SQL** para ejecución de las sentencias.\n",
        "* Permite **actualizar** los **datos en tiempo real** sin bloqueo.\n",
        "* Proporciona **indexación** por **clave primaria**. Hace posible recuperar la información almacenada para un determinado valor o un rango de valores con muy baja latencia y pocos milisegundos.\n",
        "* Puede trabajar con millones de registros en bruto (sin realizar preprocesamientoo previo de los datos) consiguiendo ejecutar **sentencias sin ninguna latencia**\n",
        "* Soporte de **replicación** e **integridad** de datos.\n",
        "\n"
      ],
      "metadata": {
        "id": "m7DqznlPgyIP"
      }
    },
    {
      "cell_type": "markdown",
      "source": [
        "# Instalación\n",
        "\n",
        "A continuación, se procede a la instalación del software de ClickHouse en un entorno Python, con el objetivo de habilitar su uso en Google Colab. Se proporcionarán instrucciones detalladas sobre los pasos necesarios para lograr una integración exitosa de ClickHouse con Python."
      ],
      "metadata": {
        "id": "8ZDeM58pk7Uf"
      }
    },
    {
      "cell_type": "code",
      "execution_count": 1,
      "metadata": {
        "id": "_Kk5o4nMdbeY",
        "outputId": "c488edf3-d524-44bb-d512-1c2724206d52",
        "colab": {
          "base_uri": "https://localhost:8080/"
        }
      },
      "outputs": [
        {
          "output_type": "stream",
          "name": "stdout",
          "text": [
            "Collecting clickhouse-connect\n",
            "  Downloading clickhouse_connect-0.6.23-cp310-cp310-manylinux_2_17_x86_64.manylinux2014_x86_64.whl (964 kB)\n",
            "\u001b[2K     \u001b[90m━━━━━━━━━━━━━━━━━━━━━━━━━━━━━━━━━━━━━━━━\u001b[0m \u001b[32m964.5/964.5 kB\u001b[0m \u001b[31m6.3 MB/s\u001b[0m eta \u001b[36m0:00:00\u001b[0m\n",
            "\u001b[?25hRequirement already satisfied: certifi in /usr/local/lib/python3.10/dist-packages (from clickhouse-connect) (2023.11.17)\n",
            "Requirement already satisfied: urllib3>=1.26 in /usr/local/lib/python3.10/dist-packages (from clickhouse-connect) (2.0.7)\n",
            "Requirement already satisfied: pytz in /usr/local/lib/python3.10/dist-packages (from clickhouse-connect) (2023.3.post1)\n",
            "Collecting zstandard (from clickhouse-connect)\n",
            "  Downloading zstandard-0.22.0-cp310-cp310-manylinux_2_17_x86_64.manylinux2014_x86_64.whl (5.4 MB)\n",
            "\u001b[2K     \u001b[90m━━━━━━━━━━━━━━━━━━━━━━━━━━━━━━━━━━━━━━━━\u001b[0m \u001b[32m5.4/5.4 MB\u001b[0m \u001b[31m25.9 MB/s\u001b[0m eta \u001b[36m0:00:00\u001b[0m\n",
            "\u001b[?25hCollecting lz4 (from clickhouse-connect)\n",
            "  Downloading lz4-4.3.3-cp310-cp310-manylinux_2_17_x86_64.manylinux2014_x86_64.whl (1.3 MB)\n",
            "\u001b[2K     \u001b[90m━━━━━━━━━━━━━━━━━━━━━━━━━━━━━━━━━━━━━━━━\u001b[0m \u001b[32m1.3/1.3 MB\u001b[0m \u001b[31m25.0 MB/s\u001b[0m eta \u001b[36m0:00:00\u001b[0m\n",
            "\u001b[?25hInstalling collected packages: zstandard, lz4, clickhouse-connect\n",
            "Successfully installed clickhouse-connect-0.6.23 lz4-4.3.3 zstandard-0.22.0\n"
          ]
        }
      ],
      "source": [
        "pip install clickhouse-connect"
      ]
    },
    {
      "cell_type": "markdown",
      "source": [
        "Referencias\n",
        "\n",
        "https://vasexperts.com/es/resources/glossary/clickhouse/ (ClickHouse)\n",
        "\n",
        "https://www.adictosaltrabajo.com/2019/02/18/introduccion-a-clickhouse/#01 (Caracteristicas)\n",
        "\n",
        "https://clickhouse.com/docs/en/integrations/python (Instalación)\n",
        "\n",
        "\n",
        "https://www.percona.com/blog/clickhouse-new-opensource-columnar-database/\n",
        "\n",
        "https://www.linkedin.com/pulse/clickhouse-un-motor-de-base-sql-super-rápid-ezequiel-paolillo/?originalSubdomain=es\n"
      ],
      "metadata": {
        "id": "yV9OcNqLe1XM"
      }
    }
  ]
}