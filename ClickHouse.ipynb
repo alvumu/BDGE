{
  "nbformat": 4,
  "nbformat_minor": 0,
  "metadata": {
    "colab": {
      "provenance": [],
      "authorship_tag": "ABX9TyMgnkJBvyp3oOqkXtbkpwQh",
      "include_colab_link": true
    },
    "kernelspec": {
      "name": "python3",
      "display_name": "Python 3"
    },
    "language_info": {
      "name": "python"
    }
  },
  "cells": [
    {
      "cell_type": "markdown",
      "metadata": {
        "id": "view-in-github",
        "colab_type": "text"
      },
      "source": [
        "<a href=\"https://colab.research.google.com/github/alvumu/BDGE/blob/main/ClickHouse.ipynb\" target=\"_parent\"><img src=\"https://colab.research.google.com/assets/colab-badge.svg\" alt=\"Open In Colab\"/></a>"
      ]
    },
    {
      "cell_type": "markdown",
      "source": [
        "# **ClickHouse**\n",
        "\n",
        "ClickHouse representa un sistema de gestión de bases de datos (DBMS) de código abierto, centrado en columnas y diseñado específicamente para el procesamiento analítico en línea (OLAP). Esta herramienta innovadora fue desarrollada por Yandex y actualmente impulsa la segunda plataforma de análisis web más extensa, Yandex Metrica. Destacando como el primer almacén de datos SQL de código abierto, ClickHouse ha logrado igualar y superar la escalabilidad y rendimiento de bases de datos reconocidas como Veryica y Snowflake. Su enfoque columnar, combinado con una eficiente gestión de datos, lo posiciona como una opción destacada para abordar desafíos analíticos en entornos que demandan respuestas rápidas y procesamiento eficaz de grandes volúmenes de datos.\n",
        "\n",
        "\n"
      ],
      "metadata": {
        "id": "kaCRPO0_d5zP"
      }
    },
    {
      "cell_type": "markdown",
      "source": [
        "# Características\n",
        "\n",
        "Algunas de las características que ofrece este sistema de gestión de bases de datos son los siguientes :  \n",
        "\n",
        "* Una base de datos orientada a **columna**, sólo almacena los datos.\n",
        "* Los **datos** se comprimen reduciendo el espacio y se **almacenan** en **disco**\n",
        "* Capaz de **procesar** en **paralelo** los datos exprimiendo las capacidades multicores de los servidores.\n",
        "* Destaca por procesar datos mediante vectores, **optimizando** la **eficiencia** de la CPU\n",
        "* Utiliza el **lenguaje SQL** para ejecución de las sentencias.\n",
        "* Permite **actualizar** los **datos en tiempo real** sin bloqueo.\n",
        "* Proporciona **indexación** por **clave primaria**. Hace posible recuperar la información almacenada para un determinado valor o un rango de valores con muy baja latencia y pocos milisegundos.\n",
        "* Puede trabajar con millones de registros en bruto (sin realizar preprocesamientoo previo de los datos) consiguiendo ejecutar **sentencias sin ninguna latencia**\n",
        "* Soporte de **replicación** e **integridad** de datos.\n",
        "\n"
      ],
      "metadata": {
        "id": "m7DqznlPgyIP"
      }
    },
    {
      "cell_type": "markdown",
      "source": [
        "# Instalación\n",
        "\n",
        "A continuación, se procede a la instalación del software de ClickHouse en un entorno Python, con el objetivo de habilitar su uso en Google Colab. Se proporcionarán instrucciones detalladas sobre los pasos necesarios para lograr una integración exitosa de ClickHouse con Python."
      ],
      "metadata": {
        "id": "8ZDeM58pk7Uf"
      }
    },
    {
      "cell_type": "code",
      "execution_count": 10,
      "metadata": {
        "id": "_Kk5o4nMdbeY",
        "outputId": "e0903518-e80d-42f7-c16b-8ec1dbe46ac1",
        "colab": {
          "base_uri": "https://localhost:8080/"
        }
      },
      "outputs": [
        {
          "output_type": "stream",
          "name": "stdout",
          "text": [
            "Requirement already satisfied: clickhouse-connect in /usr/local/lib/python3.10/dist-packages (0.6.23)\n",
            "Requirement already satisfied: certifi in /usr/local/lib/python3.10/dist-packages (from clickhouse-connect) (2023.11.17)\n",
            "Requirement already satisfied: urllib3>=1.26 in /usr/local/lib/python3.10/dist-packages (from clickhouse-connect) (2.0.7)\n",
            "Requirement already satisfied: pytz in /usr/local/lib/python3.10/dist-packages (from clickhouse-connect) (2023.3.post1)\n",
            "Requirement already satisfied: zstandard in /usr/local/lib/python3.10/dist-packages (from clickhouse-connect) (0.22.0)\n",
            "Requirement already satisfied: lz4 in /usr/local/lib/python3.10/dist-packages (from clickhouse-connect) (4.3.3)\n"
          ]
        }
      ],
      "source": [
        "pip install clickhouse-connect"
      ]
    },
    {
      "cell_type": "code",
      "source": [
        "import clickhouse_connect\n",
        "\n",
        "client = clickhouse_connect.get_client(host='fgi402x8e7.europe-west4.gcp.clickhouse.cloud', port=8443, username='default', password='SY_rjdkJKk7oU')"
      ],
      "metadata": {
        "id": "PjvJ4p_UO8rj"
      },
      "execution_count": 11,
      "outputs": []
    },
    {
      "cell_type": "code",
      "execution_count": 12,
      "metadata": {
        "id": "H0XhGi4-UYND"
      },
      "outputs": [],
      "source": [
        "import gzip\n",
        "from urllib.request import Request,urlopen\n",
        "import io\n",
        "import os\n",
        "import os.path as path\n",
        "\n",
        "def download_csv(baseurl, filename):\n",
        "    file = path.abspath(path.join(os.getcwd(),filename))\n",
        "    request = Request(baseurl + filename + '.gz')\n",
        "    response = urlopen(request)\n",
        "    buf = io.BytesIO(response.read())\n",
        "    f = gzip.GzipFile(fileobj=buf)\n",
        "    data = f.read()\n",
        "    with open (filename, 'wb') as ff:\n",
        "      ff.write(data)\n",
        "\n",
        "baseurl = 'https://raw.githubusercontent.com/dsevilla/bdge-data/master/es.stackoverflow/'\n",
        "download_csv(baseurl, 'Posts.csv')\n",
        "download_csv(baseurl, 'Users.csv')\n",
        "download_csv(baseurl, 'Tags.csv')\n",
        "download_csv(baseurl, 'Comments.csv')\n",
        "download_csv(baseurl, 'Votes.csv')"
      ]
    },
    {
      "cell_type": "code",
      "source": [
        "!cp /content/Posts.csv /var/lib/clickhouse/user_files/Posts.csv"
      ],
      "metadata": {
        "id": "ta38jtzrdOCg",
        "outputId": "c9687ae9-eea7-46eb-e897-7cca38c20b8e",
        "colab": {
          "base_uri": "https://localhost:8080/"
        }
      },
      "execution_count": 65,
      "outputs": [
        {
          "output_type": "stream",
          "name": "stdout",
          "text": [
            "cp: cannot create regular file '/var/lib/clickhouse/user_files/Posts.csv': No such file or directory\n"
          ]
        }
      ]
    },
    {
      "cell_type": "code",
      "source": [
        "client.query(\"CREATE DATABASE IF NOT EXISTS stackoverflow\")"
      ],
      "metadata": {
        "id": "riWCruHWQkES",
        "outputId": "59022d00-d890-47ea-8258-b1fcb09623b6",
        "colab": {
          "base_uri": "https://localhost:8080/"
        }
      },
      "execution_count": 13,
      "outputs": [
        {
          "output_type": "execute_result",
          "data": {
            "text/plain": [
              "<clickhouse_connect.driver.query.QueryResult at 0x782d3e629780>"
            ]
          },
          "metadata": {},
          "execution_count": 13
        }
      ]
    },
    {
      "cell_type": "code",
      "source": [
        "client.query(\"DROP TABLE IF EXISTS stackoverflow.PostsPart\")\n",
        "client.query(\"\"\"\n",
        "CREATE TABLE IF NOT EXISTS stackoverflow.PostsPart\n",
        "(\n",
        "    Id Int32,\n",
        "    AcceptedAnswerId Nullable(Int32),\n",
        "    AnswerCount Nullable(Int32),\n",
        "    Body String,\n",
        "    ClosedDate Nullable(DateTime),\n",
        "    CommentCount Nullable(Int32),\n",
        "    CommunityOwnedDate Nullable(DateTime),\n",
        "    CreationDate DateTime,\n",
        "    FavoriteCount Nullable(Int32),\n",
        "    LastActivityDate Nullable(DateTime),\n",
        "    LastEditDate Nullable(DateTime),\n",
        "    LastEditorDisplayName String,\n",
        "    LastEditorUserId Nullable(Int32),\n",
        "    OwnerDisplayName String,\n",
        "    OwnerUserId Nullable(Int32),\n",
        "    ParentId Nullable(Int32),\n",
        "    PostTypeId UInt8,\n",
        "    Score Int32,\n",
        "    Tags String,\n",
        "    Title String,\n",
        "    ViewCount Nullable(Int32)\n",
        ") ENGINE = MergeTree\n",
        " PRIMARY KEY Id\n",
        " ORDER BY Id;\"\"\")"
      ],
      "metadata": {
        "id": "t-Qd7tzhVNL_",
        "outputId": "dc140400-4935-48f1-e2b0-9ef53ee3289e",
        "colab": {
          "base_uri": "https://localhost:8080/"
        }
      },
      "execution_count": 75,
      "outputs": [
        {
          "output_type": "execute_result",
          "data": {
            "text/plain": [
              "<clickhouse_connect.driver.query.QueryResult at 0x782d3e60b760>"
            ]
          },
          "metadata": {},
          "execution_count": 75
        }
      ]
    },
    {
      "cell_type": "code",
      "source": [
        "client.query(\"INSERT INTO stackoverflow.PostsPart FORMAT CSVWithNames\")"
      ],
      "metadata": {
        "id": "as2GIe_BZYHh",
        "outputId": "0214c693-4410-4b72-df27-253acac6dabf",
        "colab": {
          "base_uri": "https://localhost:8080/",
          "height": 175
        }
      },
      "execution_count": 81,
      "outputs": [
        {
          "output_type": "error",
          "ename": "NameError",
          "evalue": "name 'Posts' is not defined",
          "traceback": [
            "\u001b[0;31m---------------------------------------------------------------------------\u001b[0m",
            "\u001b[0;31mNameError\u001b[0m                                 Traceback (most recent call last)",
            "\u001b[0;32m<ipython-input-81-a8bc7def8ef5>\u001b[0m in \u001b[0;36m<cell line: 1>\u001b[0;34m()\u001b[0m\n\u001b[0;32m----> 1\u001b[0;31m \u001b[0mclient\u001b[0m\u001b[0;34m.\u001b[0m\u001b[0mquery\u001b[0m\u001b[0;34m(\u001b[0m\u001b[0;34m\"INSERT INTO stackoverflow.PostsPart FORMAT CSVWithNames\"\u001b[0m \u001b[0;34m<\u001b[0m \u001b[0mPosts\u001b[0m\u001b[0;34m.\u001b[0m\u001b[0mcsv\u001b[0m\u001b[0;34m)\u001b[0m\u001b[0;34m\u001b[0m\u001b[0;34m\u001b[0m\u001b[0m\n\u001b[0m",
            "\u001b[0;31mNameError\u001b[0m: name 'Posts' is not defined"
          ]
        }
      ]
    },
    {
      "cell_type": "markdown",
      "source": [
        "Referencias\n",
        "\n",
        "https://vasexperts.com/es/resources/glossary/clickhouse/ (ClickHouse)\n",
        "\n",
        "https://www.adictosaltrabajo.com/2019/02/18/introduccion-a-clickhouse/#01 (Caracteristicas)\n",
        "\n",
        "https://clickhouse.com/docs/en/integrations/python (Instalación)\n",
        "\n",
        "\n",
        "https://www.percona.com/blog/clickhouse-new-opensource-columnar-database/\n",
        "\n",
        "https://www.linkedin.com/pulse/clickhouse-un-motor-de-base-sql-super-rápid-ezequiel-paolillo/?originalSubdomain=es\n"
      ],
      "metadata": {
        "id": "yV9OcNqLe1XM"
      }
    }
  ]
}