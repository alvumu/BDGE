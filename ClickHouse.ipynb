{
  "nbformat": 4,
  "nbformat_minor": 0,
  "metadata": {
    "colab": {
      "provenance": [],
      "toc_visible": true,
      "authorship_tag": "ABX9TyOVoxRmS8+YsKirEqMJ5Vol",
      "include_colab_link": true
    },
    "kernelspec": {
      "name": "python3",
      "display_name": "Python 3"
    },
    "language_info": {
      "name": "python"
    }
  },
  "cells": [
    {
      "cell_type": "markdown",
      "metadata": {
        "id": "view-in-github",
        "colab_type": "text"
      },
      "source": [
        "<a href=\"https://colab.research.google.com/github/alvumu/BDGE/blob/main/ClickHouse.ipynb\" target=\"_parent\"><img src=\"https://colab.research.google.com/assets/colab-badge.svg\" alt=\"Open In Colab\"/></a>"
      ]
    },
    {
      "cell_type": "markdown",
      "source": [
        "# **ClickHouse**\n",
        "\n",
        "ClickHouse representa un sistema de gestión de bases de datos (DBMS) de código abierto, centrado en columnas y diseñado específicamente para el procesamiento analítico en línea (OLAP). Esta herramienta innovadora fue desarrollada por Yandex y actualmente impulsa la segunda plataforma de análisis web más extensa, Yandex Metrica. Destacando como el primer almacén de datos SQL de código abierto, ClickHouse ha logrado igualar y superar la escalabilidad y rendimiento de bases de datos reconocidas como Veryica y Snowflake. Su enfoque columnar, combinado con una eficiente gestión de datos, lo posiciona como una opción destacada para abordar desafíos analíticos en entornos que demandan respuestas rápidas y procesamiento eficaz de grandes volúmenes de datos.\n",
        "\n",
        "\n"
      ],
      "metadata": {
        "id": "kaCRPO0_d5zP"
      }
    },
    {
      "cell_type": "markdown",
      "source": [
        "# Características\n",
        "\n",
        "Algunas de las características que ofrece este sistema de gestión de bases de datos son los siguientes :  \n",
        "\n",
        "* Una base de datos orientada a **columna**, sólo almacena los datos.\n",
        "* Los **datos** se comprimen reduciendo el espacio y se **almacenan** en **disco**\n",
        "* Capaz de **procesar** en **paralelo** los datos exprimiendo las capacidades multicores de los servidores.\n",
        "* Destaca por procesar datos mediante vectores, **optimizando** la **eficiencia** de la CPU\n",
        "* Utiliza el **lenguaje SQL** para ejecución de las sentencias.\n",
        "* Permite **actualizar** los **datos en tiempo real** sin bloqueo.\n",
        "* Proporciona **indexación** por **clave primaria**. Hace posible recuperar la información almacenada para un determinado valor o un rango de valores con muy baja latencia y pocos milisegundos.\n",
        "* Puede trabajar con millones de registros en bruto (sin realizar preprocesamientoo previo de los datos) consiguiendo ejecutar **sentencias sin ninguna latencia**\n",
        "* Soporte de **replicación** e **integridad** de datos.\n",
        "\n"
      ],
      "metadata": {
        "id": "m7DqznlPgyIP"
      }
    },
    {
      "cell_type": "markdown",
      "source": [
        "# Instalación\n",
        "\n",
        "A continuación, se procede a la instalación del software de ClickHouse en un entorno Python, con el objetivo de habilitar su uso en Google Colab. Se proporcionarán instrucciones detalladas sobre los pasos necesarios para lograr una integración exitosa de ClickHouse con Python."
      ],
      "metadata": {
        "id": "8ZDeM58pk7Uf"
      }
    },
    {
      "cell_type": "code",
      "execution_count": 2,
      "metadata": {
        "id": "_Kk5o4nMdbeY",
        "outputId": "1ae13880-8762-4ec3-af86-da5b0139232b",
        "colab": {
          "base_uri": "https://localhost:8080/"
        }
      },
      "outputs": [
        {
          "output_type": "stream",
          "name": "stdout",
          "text": [
            "Collecting clickhouse-connect\n",
            "  Downloading clickhouse_connect-0.6.23-cp310-cp310-manylinux_2_17_x86_64.manylinux2014_x86_64.whl (964 kB)\n",
            "\u001b[?25l     \u001b[90m━━━━━━━━━━━━━━━━━━━━━━━━━━━━━━━━━━━━━━━━\u001b[0m \u001b[32m0.0/964.5 kB\u001b[0m \u001b[31m?\u001b[0m eta \u001b[36m-:--:--\u001b[0m\r\u001b[2K     \u001b[91m━━━━━\u001b[0m\u001b[90m╺\u001b[0m\u001b[90m━━━━━━━━━━━━━━━━━━━━━━━━━━━━━━━━━━\u001b[0m \u001b[32m122.9/964.5 kB\u001b[0m \u001b[31m3.4 MB/s\u001b[0m eta \u001b[36m0:00:01\u001b[0m\r\u001b[2K     \u001b[90m━━━━━━━━━━━━━━━━━━━━━━━━━━━━━━━━━━━━━━━━\u001b[0m \u001b[32m964.5/964.5 kB\u001b[0m \u001b[31m14.3 MB/s\u001b[0m eta \u001b[36m0:00:00\u001b[0m\n",
            "\u001b[?25hRequirement already satisfied: certifi in /usr/local/lib/python3.10/dist-packages (from clickhouse-connect) (2023.11.17)\n",
            "Requirement already satisfied: urllib3>=1.26 in /usr/local/lib/python3.10/dist-packages (from clickhouse-connect) (2.0.7)\n",
            "Requirement already satisfied: pytz in /usr/local/lib/python3.10/dist-packages (from clickhouse-connect) (2023.3.post1)\n",
            "Collecting zstandard (from clickhouse-connect)\n",
            "  Downloading zstandard-0.22.0-cp310-cp310-manylinux_2_17_x86_64.manylinux2014_x86_64.whl (5.4 MB)\n",
            "\u001b[2K     \u001b[90m━━━━━━━━━━━━━━━━━━━━━━━━━━━━━━━━━━━━━━━━\u001b[0m \u001b[32m5.4/5.4 MB\u001b[0m \u001b[31m44.7 MB/s\u001b[0m eta \u001b[36m0:00:00\u001b[0m\n",
            "\u001b[?25hCollecting lz4 (from clickhouse-connect)\n",
            "  Downloading lz4-4.3.3-cp310-cp310-manylinux_2_17_x86_64.manylinux2014_x86_64.whl (1.3 MB)\n",
            "\u001b[2K     \u001b[90m━━━━━━━━━━━━━━━━━━━━━━━━━━━━━━━━━━━━━━━━\u001b[0m \u001b[32m1.3/1.3 MB\u001b[0m \u001b[31m32.3 MB/s\u001b[0m eta \u001b[36m0:00:00\u001b[0m\n",
            "\u001b[?25hInstalling collected packages: zstandard, lz4, clickhouse-connect\n",
            "Successfully installed clickhouse-connect-0.6.23 lz4-4.3.3 zstandard-0.22.0\n",
            "Collecting clickhouse-driver\n",
            "  Downloading clickhouse_driver-0.2.6-cp310-cp310-manylinux_2_17_x86_64.manylinux2014_x86_64.whl (740 kB)\n",
            "\u001b[2K     \u001b[90m━━━━━━━━━━━━━━━━━━━━━━━━━━━━━━━━━━━━━━━━\u001b[0m \u001b[32m740.4/740.4 kB\u001b[0m \u001b[31m7.8 MB/s\u001b[0m eta \u001b[36m0:00:00\u001b[0m\n",
            "\u001b[?25hRequirement already satisfied: pytz in /usr/local/lib/python3.10/dist-packages (from clickhouse-driver) (2023.3.post1)\n",
            "Requirement already satisfied: tzlocal in /usr/local/lib/python3.10/dist-packages (from clickhouse-driver) (5.2)\n",
            "Installing collected packages: clickhouse-driver\n",
            "Successfully installed clickhouse-driver-0.2.6\n"
          ]
        }
      ],
      "source": [
        "!pip install clickhouse-connect\n",
        "!pip install clickhouse-driver"
      ]
    },
    {
      "cell_type": "code",
      "source": [
        "import clickhouse_connect\n",
        "\n",
        "client = clickhouse_connect.get_client(host='fgi402x8e7.europe-west4.gcp.clickhouse.cloud', port=8443, username='default', password='SY_rjdkJKk7oU')"
      ],
      "metadata": {
        "id": "PjvJ4p_UO8rj"
      },
      "execution_count": 3,
      "outputs": []
    },
    {
      "cell_type": "markdown",
      "source": [
        "# Importación de datos"
      ],
      "metadata": {
        "id": "X3xxAOxhA-w4"
      }
    },
    {
      "cell_type": "markdown",
      "source": [
        "Se define una función para extraer y descargar los archivos en el entorno para su posterior carga en Clickhouse"
      ],
      "metadata": {
        "id": "E8rXodEdBFOu"
      }
    },
    {
      "cell_type": "code",
      "execution_count": 7,
      "metadata": {
        "id": "H0XhGi4-UYND"
      },
      "outputs": [],
      "source": [
        "import gzip\n",
        "from urllib.request import Request,urlopen\n",
        "import io\n",
        "import os\n",
        "import os.path as path\n",
        "\n",
        "def download_csv(baseurl, filename):\n",
        "    file = path.abspath(path.join(os.getcwd(),filename))\n",
        "    request = Request(baseurl + filename + '.gz')\n",
        "    response = urlopen(request)\n",
        "    buf = io.BytesIO(response.read())\n",
        "    f = gzip.GzipFile(fileobj=buf)\n",
        "    data = f.read()\n",
        "    with open (filename, 'wb') as ff:\n",
        "      ff.write(data)\n",
        "\n",
        "baseurl = 'https://raw.githubusercontent.com/dsevilla/bdge-data/master/es.stackoverflow/'\n",
        "download_csv(baseurl, 'Posts.csv')\n",
        "download_csv(baseurl, 'Users.csv')\n",
        "download_csv(baseurl, 'Tags.csv')\n",
        "download_csv(baseurl, 'Comments.csv')\n",
        "download_csv(baseurl, 'Votes.csv')"
      ]
    },
    {
      "cell_type": "markdown",
      "source": [
        "Se crea una base de datos donde se almacenarán las tablas relacionadas con el trabajo. Esta base de datos tendrá el nombre *stackoverflow*"
      ],
      "metadata": {
        "id": "cGDU72YfBTrK"
      }
    },
    {
      "cell_type": "code",
      "source": [
        "client.query(\"CREATE DATABASE IF NOT EXISTS stackoverflow\")"
      ],
      "metadata": {
        "id": "riWCruHWQkES",
        "outputId": "1ff4a880-48f7-4b26-eec7-3d3e0f9c6c08",
        "colab": {
          "base_uri": "https://localhost:8080/"
        }
      },
      "execution_count": 9,
      "outputs": [
        {
          "output_type": "execute_result",
          "data": {
            "text/plain": [
              "<clickhouse_connect.driver.query.QueryResult at 0x7a49021d76d0>"
            ]
          },
          "metadata": {},
          "execution_count": 9
        }
      ]
    },
    {
      "cell_type": "markdown",
      "source": [
        "Se define la tabla que almacenará la información relativa a los Post"
      ],
      "metadata": {
        "id": "yedvetCVBdLx"
      }
    },
    {
      "cell_type": "code",
      "source": [
        "client.query(\"DROP TABLE IF EXISTS stackoverflow.PostsPart\")\n",
        "client.query(\"\"\"\n",
        "CREATE TABLE IF NOT EXISTS stackoverflow.PostsPart\n",
        "(\n",
        "    Id Int32,\n",
        "    AcceptedAnswerId Nullable(Int32) DEFAULT NULL,\n",
        "    AnswerCount Nullable(Int32) DEFAULT 0,\n",
        "    Body String,\n",
        "    ClosedDate Nullable(DateTime) DEFAULT NULL,\n",
        "    CommentCount Nullable(Int32) DEFAULT 0,\n",
        "    CommunityOwnedDate Nullable(DateTime) DEFAULT NULL,\n",
        "    CreationDate Nullable(DateTime) DEFAULT NULL,\n",
        "    FavoriteCount Nullable(Int32) DEFAULT 0,\n",
        "    LastActivityDate Nullable(DateTime) DEFAULT NULL,\n",
        "    LastEditDate Nullable(DateTime) DEFAULT NULL,\n",
        "    LastEditorDisplayName String,\n",
        "    LastEditorUserId Nullable(Int32) DEFAULT NULL,\n",
        "    OwnerDisplayName String,\n",
        "    OwnerUserId Nullable(Int32) DEFAULT NULL,\n",
        "    ParentId Nullable(Int32) DEFAULT NULL,\n",
        "    PostTypeId UInt8,\n",
        "    Score Int32 DEFAULT 0,\n",
        "    Tags String,\n",
        "    Title String,\n",
        "    ViewCount Nullable(Int32) DEFAULT 0\n",
        ") ENGINE = MergeTree\n",
        " PRIMARY KEY Id\n",
        " ORDER BY Id;\"\"\")"
      ],
      "metadata": {
        "id": "t-Qd7tzhVNL_",
        "outputId": "321c4f86-6c2d-49cf-cd44-3b624d464e32",
        "colab": {
          "base_uri": "https://localhost:8080/"
        }
      },
      "execution_count": 30,
      "outputs": [
        {
          "output_type": "execute_result",
          "data": {
            "text/plain": [
              "<clickhouse_connect.driver.query.QueryResult at 0x7a4901fe56c0>"
            ]
          },
          "metadata": {},
          "execution_count": 30
        }
      ]
    },
    {
      "cell_type": "markdown",
      "source": [
        "Tras crear la tabla, se importan que completarán la tabla. Para ello se usa la función **insert_file**"
      ],
      "metadata": {
        "id": "E1v5Ybqv2Zxd"
      }
    },
    {
      "cell_type": "code",
      "source": [
        "from clickhouse_connect.driver.tools import insert_file\n",
        "\n",
        "insert_file(client, 'PostsPart', 'Posts.csv',\n",
        "            settings={'input_format_allow_errors_ratio': .2,\n",
        "                      'input_format_allow_errors_num': 5},\n",
        "            database = \"stackoverflow\")\n"
      ],
      "metadata": {
        "id": "as2GIe_BZYHh",
        "outputId": "6077367a-bd47-4f43-8d94-86c0638515dc",
        "colab": {
          "base_uri": "https://localhost:8080/"
        }
      },
      "execution_count": 31,
      "outputs": [
        {
          "output_type": "execute_result",
          "data": {
            "text/plain": [
              "<clickhouse_connect.driver.summary.QuerySummary at 0x7a4901fe6c20>"
            ]
          },
          "metadata": {},
          "execution_count": 31
        }
      ]
    },
    {
      "cell_type": "markdown",
      "source": [
        "Comprobamos que los datos se han añadido a la tabla correctamente"
      ],
      "metadata": {
        "id": "hf4Wgl2q31R2"
      }
    },
    {
      "cell_type": "code",
      "source": [
        "q = client.query('SELECT count(*) FROM stackoverflow.PostsPart')\n",
        "q.result_columns"
      ],
      "metadata": {
        "colab": {
          "base_uri": "https://localhost:8080/"
        },
        "id": "EBrZGKYR2w1w",
        "outputId": "b8f0366e-27b3-4aae-b3a8-c40bc60741cd"
      },
      "execution_count": 32,
      "outputs": [
        {
          "output_type": "execute_result",
          "data": {
            "text/plain": [
              "[[76278]]"
            ]
          },
          "metadata": {},
          "execution_count": 32
        }
      ]
    },
    {
      "cell_type": "markdown",
      "source": [
        "Se repite el mismo procedimiento para los distintos ficheros\n"
      ],
      "metadata": {
        "id": "jxdXeUTx4DpR"
      }
    },
    {
      "cell_type": "code",
      "source": [
        "client.query(\"DROP TABLE IF EXISTS stackoverflow.Users\")\n",
        "client.query(\"\"\"\n",
        "CREATE TABLE IF NOT EXISTS stackoverflow.Users\n",
        "(\n",
        "    Id Int32,\n",
        "    AboutMe String,\n",
        "    AccountID Int32,\n",
        "    Age Nullable(Int32),\n",
        "    CreationDate Nullable(DateTime),\n",
        "    DisplayName String,\n",
        "    DownVotes Nullable(Int32) DEFAULT 0,\n",
        "    LastAccessDate Nullable(Datetime),\n",
        "    Location String,\n",
        "    ProfileImageUrl String,\n",
        "    Reputation Nullable(Int32) DEFAULT 0,\n",
        "    UpVotes Nullable(Int32) DEFAULT 0,\n",
        "    Views Nullable(Int32) DEFAULT 0,\n",
        "    WebsiteUrl String\n",
        ") ENGINE = MergeTree\n",
        " PRIMARY KEY Id\n",
        " ORDER BY Id;\"\"\")\n",
        "\n",
        "insert_file(client, 'Users', 'Users.csv',\n",
        "            settings={'input_format_allow_errors_ratio': .2,\n",
        "                      'input_format_allow_errors_num': 5},\n",
        "            database = \"stackoverflow\")\n"
      ],
      "metadata": {
        "outputId": "dfb13ca0-fee6-4cd8-a1ff-008dcbae6ee4",
        "colab": {
          "base_uri": "https://localhost:8080/"
        },
        "id": "VrfjWMeh4UO-"
      },
      "execution_count": 33,
      "outputs": [
        {
          "output_type": "execute_result",
          "data": {
            "text/plain": [
              "<clickhouse_connect.driver.summary.QuerySummary at 0x7a4901fe73a0>"
            ]
          },
          "metadata": {},
          "execution_count": 33
        }
      ]
    },
    {
      "cell_type": "code",
      "source": [
        "\n",
        "client.query(\"DROP TABLE IF EXISTS stackoverflow.Tags\")\n",
        "client.query(\"\"\"\n",
        "CREATE TABLE IF NOT EXISTS stackoverflow.Tags\n",
        "(\n",
        "    Id Int32,\n",
        "    Count Int32 DEFAULT 0,\n",
        "    ExcerptPostId Nullable(Int32) DEFAULT NULL,\n",
        "    TagName String,\n",
        "    WikiPostId Nullable(Int32) DEFAULT NULL,\n",
        ") ENGINE = MergeTree()\n",
        " PRIMARY KEY Id\n",
        " ORDER BY Id;\"\"\")\n",
        "\n",
        "insert_file(client, 'Tags', 'Tags.csv',\n",
        "            settings={'input_format_allow_errors_ratio': .2,\n",
        "                      'input_format_allow_errors_num': 5},\n",
        "            database = \"stackoverflow\")\n"
      ],
      "metadata": {
        "colab": {
          "base_uri": "https://localhost:8080/"
        },
        "id": "EK8fsrsV4XG5",
        "outputId": "86d0ed00-5081-4fad-c3d3-9697b8769e2e"
      },
      "execution_count": 34,
      "outputs": [
        {
          "output_type": "execute_result",
          "data": {
            "text/plain": [
              "<clickhouse_connect.driver.summary.QuerySummary at 0x7a4901fe5660>"
            ]
          },
          "metadata": {},
          "execution_count": 34
        }
      ]
    },
    {
      "cell_type": "code",
      "source": [
        "client.query(\"DROP TABLE IF EXISTS stackoverflow.Votes\")\n",
        "client.query(\"\"\"\n",
        "CREATE TABLE IF NOT EXISTS stackoverflow.Votes\n",
        "(\n",
        "    Id Int32,\n",
        "    BountyAmount Int32 DEFAULT 0,\n",
        "    CreationDate Nullable(DateTime) DEFAULT NULL,\n",
        "    PostId Nullable(Int32) DEFAULT NULL,\n",
        "    UserId Nullable(Int32) DEFAULT NULL,\n",
        "    VoteTypeId Int32,\n",
        ") ENGINE = MergeTree()\n",
        " PRIMARY KEY Id\n",
        " ORDER BY Id;\"\"\")\n",
        "\n",
        "insert_file(client, 'Votes', 'Votes.csv',\n",
        "            settings={'input_format_allow_errors_ratio': .2,\n",
        "                      'input_format_allow_errors_num': 5},\n",
        "            database = \"stackoverflow\")"
      ],
      "metadata": {
        "colab": {
          "base_uri": "https://localhost:8080/"
        },
        "id": "YJM0kUUT535I",
        "outputId": "06d71aa8-cf38-4970-d5b0-b2164168116e"
      },
      "execution_count": 35,
      "outputs": [
        {
          "output_type": "execute_result",
          "data": {
            "text/plain": [
              "<clickhouse_connect.driver.summary.QuerySummary at 0x7a4901fe6200>"
            ]
          },
          "metadata": {},
          "execution_count": 35
        }
      ]
    },
    {
      "cell_type": "code",
      "source": [
        "client.query(\"DROP TABLE IF EXISTS stackoverflow.Comments\")\n",
        "client.query(\"\"\"\n",
        "CREATE TABLE IF NOT EXISTS stackoverflow.Comments\n",
        "(\n",
        "    Id Int32,\n",
        "    CreationDate Nullable(DateTime) DEFAULT NULL,\n",
        "    PostId Nullable(Int32) DEFAULT NULL,\n",
        "    Score Int32 DEFAULT 0,\n",
        "    Text String,\n",
        "    UserDisplayName String,\n",
        "    UserId Nullable(Int32) DEFAULT NULL\n",
        "\n",
        ") ENGINE = MergeTree\n",
        "\n",
        " PRIMARY KEY Id\n",
        " ORDER BY Id;\"\"\")\n",
        "\n",
        "insert_file(client, 'Comments', 'Comments.csv',\n",
        "            settings={'input_format_allow_errors_ratio': .2,\n",
        "                      'input_format_allow_errors_num': 5},\n",
        "            database = \"stackoverflow\")"
      ],
      "metadata": {
        "colab": {
          "base_uri": "https://localhost:8080/"
        },
        "id": "VaoL7sGl6SC4",
        "outputId": "6b4873a7-20ea-41c7-c235-fb7afc474eb1"
      },
      "execution_count": 36,
      "outputs": [
        {
          "output_type": "execute_result",
          "data": {
            "text/plain": [
              "<clickhouse_connect.driver.summary.QuerySummary at 0x7a4901fe6620>"
            ]
          },
          "metadata": {},
          "execution_count": 36
        }
      ]
    },
    {
      "cell_type": "code",
      "source": [
        "q = client.query('SELECT count(*) FROM stackoverflow.Users')\n",
        "q.result_columns"
      ],
      "metadata": {
        "colab": {
          "base_uri": "https://localhost:8080/"
        },
        "id": "4aZfWhOn4L2F",
        "outputId": "2c80482d-1046-4aa1-f61b-bdea3dfd7bb7"
      },
      "execution_count": 37,
      "outputs": [
        {
          "output_type": "execute_result",
          "data": {
            "text/plain": [
              "[[49033]]"
            ]
          },
          "metadata": {},
          "execution_count": 37
        }
      ]
    },
    {
      "cell_type": "code",
      "source": [
        "q = client.query('SELECT count(*) FROM stackoverflow.Votes')\n",
        "q.result_columns"
      ],
      "metadata": {
        "colab": {
          "base_uri": "https://localhost:8080/"
        },
        "id": "IYIxDeeV5wxR",
        "outputId": "e001d6f0-14db-4b7f-ed6e-e21e924d0a23"
      },
      "execution_count": 39,
      "outputs": [
        {
          "output_type": "execute_result",
          "data": {
            "text/plain": [
              "[[165621]]"
            ]
          },
          "metadata": {},
          "execution_count": 39
        }
      ]
    },
    {
      "cell_type": "code",
      "source": [
        "q = client.query('SELECT count(*) FROM stackoverflow.Tags')\n",
        "q.result_columns"
      ],
      "metadata": {
        "colab": {
          "base_uri": "https://localhost:8080/"
        },
        "id": "6IZnUm5e8LXR",
        "outputId": "de2240c1-10a0-4cd0-a66d-e521de97436f"
      },
      "execution_count": 40,
      "outputs": [
        {
          "output_type": "execute_result",
          "data": {
            "text/plain": [
              "[[1554]]"
            ]
          },
          "metadata": {},
          "execution_count": 40
        }
      ]
    },
    {
      "cell_type": "code",
      "source": [
        "q = client.query('SELECT count(*) FROM stackoverflow.Comments')\n",
        "q.result_columns"
      ],
      "metadata": {
        "colab": {
          "base_uri": "https://localhost:8080/"
        },
        "id": "_z0_k9vE8PYy",
        "outputId": "9b07ec6f-1243-4fca-b272-e46f6596774e"
      },
      "execution_count": 41,
      "outputs": [
        {
          "output_type": "execute_result",
          "data": {
            "text/plain": [
              "[[123662]]"
            ]
          },
          "metadata": {},
          "execution_count": 41
        }
      ]
    },
    {
      "cell_type": "markdown",
      "source": [
        "# Ejercicios\n",
        "\n",
        "A continuación se realizan los ejercicios relativos a los RQ´s\n",
        "\n"
      ],
      "metadata": {
        "id": "L134zOMNCHF6"
      }
    },
    {
      "cell_type": "markdown",
      "source": [
        "## RQ1\n",
        "¿Cual es la distribucion de desarrolladores que postean preguntas ?\n",
        "\n"
      ],
      "metadata": {
        "id": "_uxaEwd5CSgr"
      }
    },
    {
      "cell_type": "code",
      "source": [
        "rq1 = client.query(\"\"\"SELECT\n",
        "    R.QuestionCount,\n",
        "    COUNT(*) AS CantidadDevs\n",
        "FROM (\n",
        "    SELECT\n",
        "        OwnerUserId AS DeveloperId,\n",
        "        COUNT(*) AS QuestionCount\n",
        "    FROM stackoverflow.PostsPart\n",
        "    WHERE PostTypeId = 1\n",
        "    GROUP BY OwnerUserId\n",
        ") AS R\n",
        "GROUP BY R.QuestionCount\n",
        "ORDER BY R.QuestionCount\"\"\")\n",
        "\n"
      ],
      "metadata": {
        "id": "r8TDAHo_C39B"
      },
      "execution_count": 45,
      "outputs": []
    },
    {
      "cell_type": "code",
      "source": [
        "rq1.result_rows"
      ],
      "metadata": {
        "colab": {
          "base_uri": "https://localhost:8080/"
        },
        "id": "2oAsptLnDERT",
        "outputId": "f1fea7ed-a0e6-409b-d826-7a70c30e9345"
      },
      "execution_count": 57,
      "outputs": [
        {
          "output_type": "execute_result",
          "data": {
            "text/plain": [
              "[(1, 6840),\n",
              " (2, 1603),\n",
              " (3, 706),\n",
              " (4, 407),\n",
              " (5, 295),\n",
              " (6, 184),\n",
              " (7, 142),\n",
              " (8, 105),\n",
              " (9, 76),\n",
              " (10, 79),\n",
              " (11, 49),\n",
              " (12, 43),\n",
              " (13, 34),\n",
              " (14, 37),\n",
              " (15, 35),\n",
              " (16, 24),\n",
              " (17, 20),\n",
              " (18, 13),\n",
              " (19, 19),\n",
              " (20, 20),\n",
              " (21, 15),\n",
              " (22, 16),\n",
              " (23, 9),\n",
              " (24, 16),\n",
              " (25, 10),\n",
              " (26, 12),\n",
              " (27, 5),\n",
              " (28, 6),\n",
              " (29, 11),\n",
              " (30, 9),\n",
              " (31, 4),\n",
              " (32, 4),\n",
              " (33, 3),\n",
              " (34, 2),\n",
              " (35, 4),\n",
              " (36, 3),\n",
              " (37, 6),\n",
              " (38, 2),\n",
              " (39, 4),\n",
              " (40, 2),\n",
              " (41, 3),\n",
              " (42, 1),\n",
              " (43, 4),\n",
              " (44, 2),\n",
              " (45, 3),\n",
              " (46, 3),\n",
              " (47, 4),\n",
              " (48, 5),\n",
              " (49, 2),\n",
              " (50, 4),\n",
              " (51, 3),\n",
              " (54, 1),\n",
              " (55, 2),\n",
              " (56, 1),\n",
              " (60, 1),\n",
              " (62, 2),\n",
              " (64, 2),\n",
              " (69, 1),\n",
              " (71, 1),\n",
              " (72, 1),\n",
              " (75, 1),\n",
              " (79, 1),\n",
              " (83, 2),\n",
              " (84, 1),\n",
              " (85, 1),\n",
              " (94, 1),\n",
              " (95, 1),\n",
              " (96, 1),\n",
              " (107, 1),\n",
              " (111, 1),\n",
              " (114, 1),\n",
              " (115, 1),\n",
              " (119, 2),\n",
              " (130, 1),\n",
              " (144, 1),\n",
              " (158, 1),\n",
              " (177, 1),\n",
              " (223, 1)]"
            ]
          },
          "metadata": {},
          "execution_count": 57
        }
      ]
    },
    {
      "cell_type": "code",
      "source": [
        "from matplotlib import pyplot as plt\n",
        "from IPython.display import display, clear_output\n",
        "import pandas as pd\n",
        "\n",
        "df = pd.DataFrame(rq1.result_rows, columns=['QuestionCount', 'CantidadDevs'])\n",
        "\n",
        "print(df)\n",
        "plt.bar(df[\"QuestionCount\"][0:100], df[\"CantidadDevs\"][0:100])\n",
        "plt.xlim(0,101)\n",
        "plt.yscale(\"log\")\n",
        "plt.title(\"Distribucion de devs que postean preguntas\")\n",
        "plt.xlabel(\"Devs\")\n",
        "\n",
        "# Muestra la gráfica\n",
        "display(plt.gcf())\n",
        "\n",
        "# Borra la salida de texto\n",
        "clear_output(wait=True)\n"
      ],
      "metadata": {
        "colab": {
          "base_uri": "https://localhost:8080/",
          "height": 472
        },
        "id": "FFJqbGNKDPwQ",
        "outputId": "fee76c8a-d559-45f9-fd86-62d194befd1f"
      },
      "execution_count": 64,
      "outputs": [
        {
          "output_type": "display_data",
          "data": {
            "text/plain": [
              "<Figure size 640x480 with 1 Axes>"
            ],
            "image/png": "[encoded data removed]"
          },
          "metadata": {}
        }
      ]
    },
    {
      "cell_type": "markdown",
      "source": [
        "##RQ2\n",
        "¿Cual es la distribucion de desarrolladores que contestan preguntas?"
      ],
      "metadata": {
        "id": "NhSgnXrkFYjf"
      }
    },
    {
      "cell_type": "code",
      "source": [
        "rq2 = client.query(\"\"\"\n",
        "SELECT\n",
        "    R.QuestionCount,\n",
        "    COUNT(*) AS CantidadDevs\n",
        "FROM (\n",
        "    SELECT\n",
        "        OwnerUserId AS DeveloperId,\n",
        "        COUNT(*) AS QuestionCount\n",
        "    FROM stackoverflow.PostsPart\n",
        "    WHERE PostTypeId = 2\n",
        "    GROUP BY OwnerUserId\n",
        ") AS R\n",
        "GROUP BY R.QuestionCount\n",
        "ORDER BY R.QuestionCount\n",
        "\"\"\")\n"
      ],
      "metadata": {
        "id": "jM6JVnkPFXYp"
      },
      "execution_count": 68,
      "outputs": []
    },
    {
      "cell_type": "code",
      "source": [
        "rq2.result_rows"
      ],
      "metadata": {
        "colab": {
          "base_uri": "https://localhost:8080/"
        },
        "id": "i-NIsplyFqxW",
        "outputId": "2da5faff-3c7d-4929-db00-52b7e60a4439"
      },
      "execution_count": 69,
      "outputs": [
        {
          "output_type": "execute_result",
          "data": {
            "text/plain": [
              "[(1, 3358),\n",
              " (2, 998),\n",
              " (3, 450),\n",
              " (4, 263),\n",
              " (5, 194),\n",
              " (6, 145),\n",
              " (7, 108),\n",
              " (8, 71),\n",
              " (9, 81),\n",
              " (10, 51),\n",
              " (11, 41),\n",
              " (12, 31),\n",
              " (13, 32),\n",
              " (14, 20),\n",
              " (15, 18),\n",
              " (16, 19),\n",
              " (17, 27),\n",
              " (18, 23),\n",
              " (19, 19),\n",
              " (20, 11),\n",
              " (21, 17),\n",
              " (22, 13),\n",
              " (23, 10),\n",
              " (24, 8),\n",
              " (25, 8),\n",
              " (26, 10),\n",
              " (27, 3),\n",
              " (28, 7),\n",
              " (29, 8),\n",
              " (30, 8),\n",
              " (31, 4),\n",
              " (32, 11),\n",
              " (33, 6),\n",
              " (34, 2),\n",
              " (35, 9),\n",
              " (36, 4),\n",
              " (37, 3),\n",
              " (38, 5),\n",
              " (39, 3),\n",
              " (40, 2),\n",
              " (41, 4),\n",
              " (42, 5),\n",
              " (43, 3),\n",
              " (44, 2),\n",
              " (45, 1),\n",
              " (46, 8),\n",
              " (47, 2),\n",
              " (48, 6),\n",
              " (49, 2),\n",
              " (50, 3),\n",
              " (51, 5),\n",
              " (52, 3),\n",
              " (53, 7),\n",
              " (54, 1),\n",
              " (55, 4),\n",
              " (56, 2),\n",
              " (57, 2),\n",
              " (62, 1),\n",
              " (64, 2),\n",
              " (65, 1),\n",
              " (66, 4),\n",
              " (68, 1),\n",
              " (69, 3),\n",
              " (70, 1),\n",
              " (72, 1),\n",
              " (74, 1),\n",
              " (75, 2),\n",
              " (76, 1),\n",
              " (77, 2),\n",
              " (78, 2),\n",
              " (80, 2),\n",
              " (81, 4),\n",
              " (82, 1),\n",
              " (83, 1),\n",
              " (84, 2),\n",
              " (86, 1),\n",
              " (88, 1),\n",
              " (89, 2),\n",
              " (90, 1),\n",
              " (93, 2),\n",
              " (97, 3),\n",
              " (98, 1),\n",
              " (100, 1),\n",
              " (102, 2),\n",
              " (104, 2),\n",
              " (105, 2),\n",
              " (107, 1),\n",
              " (108, 1),\n",
              " (109, 1),\n",
              " (110, 2),\n",
              " (112, 2),\n",
              " (114, 2),\n",
              " (117, 1),\n",
              " (118, 1),\n",
              " (125, 1),\n",
              " (126, 1),\n",
              " (127, 1),\n",
              " (135, 1),\n",
              " (139, 1),\n",
              " (148, 1),\n",
              " (149, 1),\n",
              " (152, 1),\n",
              " (161, 1),\n",
              " (168, 1),\n",
              " (182, 1),\n",
              " (184, 1),\n",
              " (190, 1),\n",
              " (200, 1),\n",
              " (204, 1),\n",
              " (208, 1),\n",
              " (210, 1),\n",
              " (224, 1),\n",
              " (227, 2),\n",
              " (246, 2),\n",
              " (250, 1),\n",
              " (258, 1),\n",
              " (259, 1),\n",
              " (262, 1),\n",
              " (265, 1),\n",
              " (266, 1),\n",
              " (283, 1),\n",
              " (327, 1),\n",
              " (329, 1),\n",
              " (343, 1),\n",
              " (352, 1),\n",
              " (353, 1),\n",
              " (373, 1),\n",
              " (381, 1),\n",
              " (411, 1),\n",
              " (451, 1),\n",
              " (469, 1),\n",
              " (542, 1),\n",
              " (669, 1),\n",
              " (729, 1),\n",
              " (2035, 1)]"
            ]
          },
          "metadata": {},
          "execution_count": 69
        }
      ]
    },
    {
      "cell_type": "code",
      "source": [
        "from matplotlib import pyplot as plt\n",
        "from IPython.display import display, clear_output\n",
        "import pandas as pd\n",
        "\n",
        "df = pd.DataFrame(rq2.result_rows, columns=['QuestionCount', 'CantidadDevs'])\n",
        "\n",
        "print(df)\n",
        "plt.bar(df[\"QuestionCount\"][0:100], df[\"CantidadDevs\"][0:100])\n",
        "plt.xlim(0,101)\n",
        "plt.yscale(\"log\")\n",
        "plt.title(\"Distribucion de devs que contestan preguntas\")\n",
        "plt.xlabel(\"Devs\")\n",
        "\n",
        "# Muestra la gráfica\n",
        "display(plt.gcf())\n",
        "\n",
        "# Borra la salida de texto\n",
        "clear_output(wait=True)\n"
      ],
      "metadata": {
        "colab": {
          "base_uri": "https://localhost:8080/",
          "height": 472
        },
        "id": "J1r_WCAwGCwY",
        "outputId": "20b15b26-6f2b-4690-d141-7b9e9f716f83"
      },
      "execution_count": 71,
      "outputs": [
        {
          "output_type": "display_data",
          "data": {
            "text/plain": [
              "<Figure size 640x480 with 1 Axes>"
            ],
            "image/png": "[encoded data removed]"
          },
          "metadata": {}
        }
      ]
    },
    {
      "cell_type": "markdown",
      "source": [
        "## RQ3\n",
        "¿ Los desarrolladores que preguntan tambien responden ?"
      ],
      "metadata": {
        "id": "imXA2wWGGw8O"
      }
    },
    {
      "cell_type": "code",
      "source": [
        "rq3 = client.query(\"\"\"\n",
        "SELECT\n",
        "    ResponseRange,\n",
        "    COUNT(*) AS CountPerRange\n",
        "FROM (\n",
        "    -- Asignación de rangos en función del porcentaje de respuestas\n",
        "    SELECT\n",
        "        CASE\n",
        "            WHEN ResponsePercentage < 1 THEN 'Nunca han respondido'\n",
        "            WHEN ResponsePercentage < 10 THEN '1%-9%'\n",
        "            WHEN ResponsePercentage < 20 THEN '10%-19%'\n",
        "            WHEN ResponsePercentage < 30 THEN '20%-29%'\n",
        "            WHEN ResponsePercentage < 40 THEN '30%-39%'\n",
        "            WHEN ResponsePercentage < 50 THEN '40%-49%'\n",
        "            WHEN ResponsePercentage < 60 THEN '50%-59%'\n",
        "            WHEN ResponsePercentage < 70 THEN '60%-69%'\n",
        "            WHEN ResponsePercentage < 80 THEN '70%-79%'\n",
        "            WHEN ResponsePercentage < 90 THEN '80%-89%'\n",
        "            WHEN ResponsePercentage < 100 THEN '90%-99%'\n",
        "            WHEN ResponsePercentage = 100 THEN '100%'\n",
        "            WHEN ResponsePercentage > 100 THEN 'Más de 100%'\n",
        "            ELSE 'Nunca han respondido'\n",
        "        END AS ResponseRange\n",
        "    FROM (\n",
        "        -- Calculamos el porcentaje de las respuestas en función de las preguntas realizadas por cada usuario\n",
        "        SELECT\n",
        "            OwnerUserId,\n",
        "            COUNT(*) AS TotalPosts,\n",
        "            SUM(CASE WHEN PostTypeId = 2 THEN 1 ELSE 0 END) AS Respuestas,\n",
        "            (SUM(CASE WHEN PostTypeId = 2 THEN 1 ELSE 0 END) / COUNT(*)) * 100 AS ResponsePercentage\n",
        "        FROM\n",
        "            stackoverflow.PostsPart\n",
        "        GROUP BY\n",
        "            OwnerUserId\n",
        "    ) AS a\n",
        ")  AS b\n",
        "GROUP BY ResponseRange\n",
        "ORDER BY ResponseRange\n",
        "\"\"\")"
      ],
      "metadata": {
        "id": "AHKtLMzlG3N7"
      },
      "execution_count": 76,
      "outputs": []
    },
    {
      "cell_type": "code",
      "source": [
        "rq3.result_rows"
      ],
      "metadata": {
        "colab": {
          "base_uri": "https://localhost:8080/"
        },
        "id": "mayctdSjHGy6",
        "outputId": "c2ca7fb7-923d-400d-8d94-df65e44aec86"
      },
      "execution_count": 77,
      "outputs": [
        {
          "output_type": "execute_result",
          "data": {
            "text/plain": [
              "[('1%-9%', 125),\n",
              " ('10%-19%', 265),\n",
              " ('100%', 3543),\n",
              " ('20%-29%', 377),\n",
              " ('30%-39%', 376),\n",
              " ('40%-49%', 120),\n",
              " ('50%-59%', 776),\n",
              " ('60%-69%', 230),\n",
              " ('70%-79%', 154),\n",
              " ('80%-89%', 164),\n",
              " ('90%-99%', 135),\n",
              " ('Nunca han respondido', 8244)]"
            ]
          },
          "metadata": {},
          "execution_count": 77
        }
      ]
    },
    {
      "cell_type": "code",
      "source": [
        "df = pd.DataFrame(rq3.result_rows, columns=['ResponseRange', 'CountPerRange'])\n",
        "\n",
        "custom_order = [\n",
        "    'Nunca han respondido', '1%-9%', '10%-19%', '20%-29%', '30%-39%', '40%-49%', '50%-59%',\n",
        "    '60%-69%', '70%-79%', '80%-89%', '90%-99%', '100%', 'Más de 100%'\n",
        "]\n",
        "\n",
        "# Reordena los datos en el DataFrame según el orden personalizado\n",
        "df['ResponseRange'] = pd.Categorical(df['ResponseRange'], categories=custom_order, ordered=True)\n",
        "df = df.sort_values('ResponseRange')\n",
        "\n",
        "# Crear el gráfico de barras\n",
        "plt.figure(figsize=(10, 6))\n",
        "plt.bar(df[\"ResponseRange\"], df[\"CountPerRange\"])\n",
        "\n",
        "# Rotar las etiquetas del eje x para que sean legibles\n",
        "plt.xticks(rotation=45, ha=\"right\")\n",
        "\n",
        "# Etiquetas para los ejes x e y\n",
        "plt.xlabel(\"Rango de Respuesta\")\n",
        "plt.ylabel(\"Cantidad\")\n",
        "\n",
        "# Título del gráfico\n",
        "plt.title(\"Distribución de Respuestas por Rango\")\n",
        "\n",
        "# Mostrar el gráfico\n",
        "plt.tight_layout()\n",
        "plt.show()\n"
      ],
      "metadata": {
        "colab": {
          "base_uri": "https://localhost:8080/",
          "height": 607
        },
        "id": "c_QIXuXFHLFh",
        "outputId": "26ee74d4-0598-49a6-ed92-b9ed6d1f50ca"
      },
      "execution_count": 78,
      "outputs": [
        {
          "output_type": "display_data",
          "data": {
            "text/plain": [
              "<Figure size 1000x600 with 1 Axes>"
            ],
            "image/png": "[encoded data removed]"
          },
          "metadata": {}
        }
      ]
    },
    {
      "cell_type": "markdown",
      "source": [
        "## RQ4\n",
        "¿ Los desarrolladores que reciben ayuda devuelven el favor ?"
      ],
      "metadata": {
        "id": "VvxeLQD8INuH"
      }
    },
    {
      "cell_type": "code",
      "source": [
        "rq4 = client.query(\"\"\"\n",
        "-- Creamos una tabla que almacena Usuario que ha hecho la pregunta, Usuario al que ha respondido\"\n",
        "WITH PreguntasRespuestas AS (\n",
        "  SELECT DISTINCT\n",
        "    q.OwnerUserId AS AskedUser,\n",
        "    a.OwnerUserId AS AnswerUser\n",
        "  FROM stackoverflow.PostsPart AS q\n",
        "  JOIN stackoverflow.PostsPart AS a ON q.Id = a.ParentId\n",
        "  WHERE q.PostTypeId = 1\n",
        "    AND a.PostTypeId = 2\n",
        ")\n",
        "\n",
        "SELECT\n",
        "  qa1.AskedUser AS Pregunta1Usuario,\n",
        "  qa2.AskedUser AS Pregunta2Usuario\n",
        "FROM PreguntasRespuestas AS qa1\n",
        "JOIN PreguntasRespuestas AS qa2\n",
        "ON qa1.AskedUser = qa2.AnswerUser\n",
        "AND qa2.AskedUser = qa1.AnswerUser\n",
        "WHERE qa1.AskedUser <> qa2.AskedUser\n",
        "AND qa1.AskedUser < qa2.AskedUser\n",
        "ORDER BY Pregunta1Usuario\n",
        "\n",
        "\"\"\")\n"
      ],
      "metadata": {
        "id": "LW4weq6xIcZm"
      },
      "execution_count": 85,
      "outputs": []
    },
    {
      "cell_type": "code",
      "source": [
        "rq4.result_rows"
      ],
      "metadata": {
        "colab": {
          "base_uri": "https://localhost:8080/"
        },
        "id": "pV6RInwcIgx4",
        "outputId": "81924ef0-e832-45b6-c359-9f7ca080ebac"
      },
      "execution_count": 86,
      "outputs": [
        {
          "output_type": "execute_result",
          "data": {
            "text/plain": [
              "[(21, 1184),\n",
              " (22, 729),\n",
              " (22, 342),\n",
              " (22, 288),\n",
              " (23, 25),\n",
              " (24, 95),\n",
              " (24, 463),\n",
              " (24, 301),\n",
              " (24, 19610),\n",
              " (24, 25),\n",
              " (24, 2230),\n",
              " (25, 288),\n",
              " (25, 225),\n",
              " (34, 250),\n",
              " (65, 78),\n",
              " (65, 13558),\n",
              " (65, 1184),\n",
              " (65, 7661),\n",
              " (73, 6497),\n",
              " (73, 29967),\n",
              " (73, 9897),\n",
              " (73, 2224),\n",
              " (73, 250),\n",
              " (78, 250),\n",
              " (83, 301),\n",
              " (83, 29967),\n",
              " (83, 100),\n",
              " (95, 29967),\n",
              " (100, 399),\n",
              " (100, 2004),\n",
              " (100, 729),\n",
              " (100, 2838),\n",
              " (100, 353),\n",
              " (100, 529),\n",
              " (100, 638),\n",
              " (100, 187),\n",
              " (120, 531),\n",
              " (154, 13938),\n",
              " (191, 2230),\n",
              " (227, 2004),\n",
              " (227, 400),\n",
              " (227, 342),\n",
              " (250, 10576),\n",
              " (250, 14243),\n",
              " (250, 18597),\n",
              " (250, 29967),\n",
              " (250, 2429),\n",
              " (250, 9897),\n",
              " (250, 2230),\n",
              " (250, 6491),\n",
              " (250, 12625),\n",
              " (250, 2163),\n",
              " (250, 729),\n",
              " (250, 27881),\n",
              " (250, 13938),\n",
              " (250, 13558),\n",
              " (250, 399),\n",
              " (250, 19610),\n",
              " (250, 731),\n",
              " (301, 2230),\n",
              " (342, 2367),\n",
              " (342, 517),\n",
              " (398, 547),\n",
              " (398, 2171),\n",
              " (399, 555),\n",
              " (463, 2742),\n",
              " (463, 19600),\n",
              " (463, 801),\n",
              " (517, 2676),\n",
              " (535, 2230),\n",
              " (638, 29967),\n",
              " (638, 35232),\n",
              " (729, 2224),\n",
              " (729, 1798),\n",
              " (729, 1839),\n",
              " (2004, 2747),\n",
              " (2163, 2230),\n",
              " (2230, 22112),\n",
              " (2230, 4684),\n",
              " (2230, 16108),\n",
              " (2230, 12446),\n",
              " (2366, 5324),\n",
              " (2429, 15514),\n",
              " (2832, 6497),\n",
              " (3275, 35873),\n",
              " (3440, 6491),\n",
              " (5808, 21775),\n",
              " (6095, 13938),\n",
              " (6491, 34430),\n",
              " (6491, 29967),\n",
              " (6491, 18771),\n",
              " (6491, 23233),\n",
              " (6491, 10576),\n",
              " (6974, 29967),\n",
              " (9874, 19919),\n",
              " (13558, 13938),\n",
              " (13735, 14088),\n",
              " (13883, 14699),\n",
              " (13938, 18771),\n",
              " (13938, 19919),\n",
              " (15855, 18124),\n",
              " (16349, 25555),\n",
              " (16349, 25360),\n",
              " (18376, 26302),\n",
              " (18771, 27881),\n",
              " (18771, 29967),\n",
              " (20709, 29967),\n",
              " (22112, 29967),\n",
              " (24137, 38468),\n",
              " (28050, 30751),\n",
              " (29967, 32268),\n",
              " (29967, 39259),\n",
              " (30877, 31132),\n",
              " (34270, 46823),\n",
              " (44942, 44946),\n",
              " (48306, 55380)]"
            ]
          },
          "metadata": {},
          "execution_count": 86
        }
      ]
    },
    {
      "cell_type": "code",
      "source": [
        "df = pd.DataFrame(rq4.result_rows, columns=['Pregunta1Usuario', 'Pregunta2Usuario'])\n",
        "df"
      ],
      "metadata": {
        "colab": {
          "base_uri": "https://localhost:8080/",
          "height": 424
        },
        "id": "07uknAmWJ1Ig",
        "outputId": "260f92d1-b3cc-4ba4-b0d3-d486ce17b954"
      },
      "execution_count": 89,
      "outputs": [
        {
          "output_type": "execute_result",
          "data": {
            "text/plain": [
              "     Pregunta1Usuario  Pregunta2Usuario\n",
              "0                  21              1184\n",
              "1                  22               729\n",
              "2                  22               342\n",
              "3                  22               288\n",
              "4                  23                25\n",
              "..                ...               ...\n",
              "111             29967             39259\n",
              "112             30877             31132\n",
              "113             34270             46823\n",
              "114             44942             44946\n",
              "115             48306             55380\n",
              "\n",
              "[116 rows x 2 columns]"
            ],
            "text/html": [
              "\n",
              "  <div id=\"df-569fb6c3-20de-4a3c-ba61-7dc82e8be910\" class=\"colab-df-container\">\n",
              "    <div>\n",
              "<style scoped>\n",
              "    .dataframe tbody tr th:only-of-type {\n",
              "        vertical-align: middle;\n",
              "    }\n",
              "\n",
              "    .dataframe tbody tr th {\n",
              "        vertical-align: top;\n",
              "    }\n",
              "\n",
              "    .dataframe thead th {\n",
              "        text-align: right;\n",
              "    }\n",
              "</style>\n",
              "<table border=\"1\" class=\"dataframe\">\n",
              "  <thead>\n",
              "    <tr style=\"text-align: right;\">\n",
              "      <th></th>\n",
              "      <th>Pregunta1Usuario</th>\n",
              "      <th>Pregunta2Usuario</th>\n",
              "    </tr>\n",
              "  </thead>\n",
              "  <tbody>\n",
              "    <tr>\n",
              "      <th>0</th>\n",
              "      <td>21</td>\n",
              "      <td>1184</td>\n",
              "    </tr>\n",
              "    <tr>\n",
              "      <th>1</th>\n",
              "      <td>22</td>\n",
              "      <td>729</td>\n",
              "    </tr>\n",
              "    <tr>\n",
              "      <th>2</th>\n",
              "      <td>22</td>\n",
              "      <td>342</td>\n",
              "    </tr>\n",
              "    <tr>\n",
              "      <th>3</th>\n",
              "      <td>22</td>\n",
              "      <td>288</td>\n",
              "    </tr>\n",
              "    <tr>\n",
              "      <th>4</th>\n",
              "      <td>23</td>\n",
              "      <td>25</td>\n",
              "    </tr>\n",
              "    <tr>\n",
              "      <th>...</th>\n",
              "      <td>...</td>\n",
              "      <td>...</td>\n",
              "    </tr>\n",
              "    <tr>\n",
              "      <th>111</th>\n",
              "      <td>29967</td>\n",
              "      <td>39259</td>\n",
              "    </tr>\n",
              "    <tr>\n",
              "      <th>112</th>\n",
              "      <td>30877</td>\n",
              "      <td>31132</td>\n",
              "    </tr>\n",
              "    <tr>\n",
              "      <th>113</th>\n",
              "      <td>34270</td>\n",
              "      <td>46823</td>\n",
              "    </tr>\n",
              "    <tr>\n",
              "      <th>114</th>\n",
              "      <td>44942</td>\n",
              "      <td>44946</td>\n",
              "    </tr>\n",
              "    <tr>\n",
              "      <th>115</th>\n",
              "      <td>48306</td>\n",
              "      <td>55380</td>\n",
              "    </tr>\n",
              "  </tbody>\n",
              "</table>\n",
              "<p>116 rows × 2 columns</p>\n",
              "</div>\n",
              "    <div class=\"colab-df-buttons\">\n",
              "\n",
              "  <div class=\"colab-df-container\">\n",
              "    <button class=\"colab-df-convert\" onclick=\"convertToInteractive('df-569fb6c3-20de-4a3c-ba61-7dc82e8be910')\"\n",
              "            title=\"Convert this dataframe to an interactive table.\"\n",
              "            style=\"display:none;\">\n",
              "\n",
              "  <svg xmlns=\"http://www.w3.org/2000/svg\" height=\"24px\" viewBox=\"0 -960 960 960\">\n",
              "    <path d=\"M120-120v-720h720v720H120Zm60-500h600v-160H180v160Zm220 220h160v-160H400v160Zm0 220h160v-160H400v160ZM180-400h160v-160H180v160Zm440 0h160v-160H620v160ZM180-180h160v-160H180v160Zm440 0h160v-160H620v160Z\"/>\n",
              "  </svg>\n",
              "    </button>\n",
              "\n",
              "  <style>\n",
              "    .colab-df-container {\n",
              "      display:flex;\n",
              "      gap: 12px;\n",
              "    }\n",
              "\n",
              "    .colab-df-convert {\n",
              "      background-color: #E8F0FE;\n",
              "      border: none;\n",
              "      border-radius: 50%;\n",
              "      cursor: pointer;\n",
              "      display: none;\n",
              "      fill: #1967D2;\n",
              "      height: 32px;\n",
              "      padding: 0 0 0 0;\n",
              "      width: 32px;\n",
              "    }\n",
              "\n",
              "    .colab-df-convert:hover {\n",
              "      background-color: #E2EBFA;\n",
              "      box-shadow: 0px 1px 2px rgba(60, 64, 67, 0.3), 0px 1px 3px 1px rgba(60, 64, 67, 0.15);\n",
              "      fill: #174EA6;\n",
              "    }\n",
              "\n",
              "    .colab-df-buttons div {\n",
              "      margin-bottom: 4px;\n",
              "    }\n",
              "\n",
              "    [theme=dark] .colab-df-convert {\n",
              "      background-color: #3B4455;\n",
              "      fill: #D2E3FC;\n",
              "    }\n",
              "\n",
              "    [theme=dark] .colab-df-convert:hover {\n",
              "      background-color: #434B5C;\n",
              "      box-shadow: 0px 1px 3px 1px rgba(0, 0, 0, 0.15);\n",
              "      filter: drop-shadow(0px 1px 2px rgba(0, 0, 0, 0.3));\n",
              "      fill: #FFFFFF;\n",
              "    }\n",
              "  </style>\n",
              "\n",
              "    <script>\n",
              "      const buttonEl =\n",
              "        document.querySelector('#df-569fb6c3-20de-4a3c-ba61-7dc82e8be910 button.colab-df-convert');\n",
              "      buttonEl.style.display =\n",
              "        google.colab.kernel.accessAllowed ? 'block' : 'none';\n",
              "\n",
              "      async function convertToInteractive(key) {\n",
              "        const element = document.querySelector('#df-569fb6c3-20de-4a3c-ba61-7dc82e8be910');\n",
              "        const dataTable =\n",
              "          await google.colab.kernel.invokeFunction('convertToInteractive',\n",
              "                                                    [key], {});\n",
              "        if (!dataTable) return;\n",
              "\n",
              "        const docLinkHtml = 'Like what you see? Visit the ' +\n",
              "          '<a target=\"_blank\" href=https://colab.research.google.com/notebooks/data_table.ipynb>data table notebook</a>'\n",
              "          + ' to learn more about interactive tables.';\n",
              "        element.innerHTML = '';\n",
              "        dataTable['output_type'] = 'display_data';\n",
              "        await google.colab.output.renderOutput(dataTable, element);\n",
              "        const docLink = document.createElement('div');\n",
              "        docLink.innerHTML = docLinkHtml;\n",
              "        element.appendChild(docLink);\n",
              "      }\n",
              "    </script>\n",
              "  </div>\n",
              "\n",
              "\n",
              "<div id=\"df-389a233a-3437-46fe-8718-32f50c406099\">\n",
              "  <button class=\"colab-df-quickchart\" onclick=\"quickchart('df-389a233a-3437-46fe-8718-32f50c406099')\"\n",
              "            title=\"Suggest charts\"\n",
              "            style=\"display:none;\">\n",
              "\n",
              "<svg xmlns=\"http://www.w3.org/2000/svg\" height=\"24px\"viewBox=\"0 0 24 24\"\n",
              "     width=\"24px\">\n",
              "    <g>\n",
              "        <path d=\"M19 3H5c-1.1 0-2 .9-2 2v14c0 1.1.9 2 2 2h14c1.1 0 2-.9 2-2V5c0-1.1-.9-2-2-2zM9 17H7v-7h2v7zm4 0h-2V7h2v10zm4 0h-2v-4h2v4z\"/>\n",
              "    </g>\n",
              "</svg>\n",
              "  </button>\n",
              "\n",
              "<style>\n",
              "  .colab-df-quickchart {\n",
              "      --bg-color: #E8F0FE;\n",
              "      --fill-color: #1967D2;\n",
              "      --hover-bg-color: #E2EBFA;\n",
              "      --hover-fill-color: #174EA6;\n",
              "      --disabled-fill-color: #AAA;\n",
              "      --disabled-bg-color: #DDD;\n",
              "  }\n",
              "\n",
              "  [theme=dark] .colab-df-quickchart {\n",
              "      --bg-color: #3B4455;\n",
              "      --fill-color: #D2E3FC;\n",
              "      --hover-bg-color: #434B5C;\n",
              "      --hover-fill-color: #FFFFFF;\n",
              "      --disabled-bg-color: #3B4455;\n",
              "      --disabled-fill-color: #666;\n",
              "  }\n",
              "\n",
              "  .colab-df-quickchart {\n",
              "    background-color: var(--bg-color);\n",
              "    border: none;\n",
              "    border-radius: 50%;\n",
              "    cursor: pointer;\n",
              "    display: none;\n",
              "    fill: var(--fill-color);\n",
              "    height: 32px;\n",
              "    padding: 0;\n",
              "    width: 32px;\n",
              "  }\n",
              "\n",
              "  .colab-df-quickchart:hover {\n",
              "    background-color: var(--hover-bg-color);\n",
              "    box-shadow: 0 1px 2px rgba(60, 64, 67, 0.3), 0 1px 3px 1px rgba(60, 64, 67, 0.15);\n",
              "    fill: var(--button-hover-fill-color);\n",
              "  }\n",
              "\n",
              "  .colab-df-quickchart-complete:disabled,\n",
              "  .colab-df-quickchart-complete:disabled:hover {\n",
              "    background-color: var(--disabled-bg-color);\n",
              "    fill: var(--disabled-fill-color);\n",
              "    box-shadow: none;\n",
              "  }\n",
              "\n",
              "  .colab-df-spinner {\n",
              "    border: 2px solid var(--fill-color);\n",
              "    border-color: transparent;\n",
              "    border-bottom-color: var(--fill-color);\n",
              "    animation:\n",
              "      spin 1s steps(1) infinite;\n",
              "  }\n",
              "\n",
              "  @keyframes spin {\n",
              "    0% {\n",
              "      border-color: transparent;\n",
              "      border-bottom-color: var(--fill-color);\n",
              "      border-left-color: var(--fill-color);\n",
              "    }\n",
              "    20% {\n",
              "      border-color: transparent;\n",
              "      border-left-color: var(--fill-color);\n",
              "      border-top-color: var(--fill-color);\n",
              "    }\n",
              "    30% {\n",
              "      border-color: transparent;\n",
              "      border-left-color: var(--fill-color);\n",
              "      border-top-color: var(--fill-color);\n",
              "      border-right-color: var(--fill-color);\n",
              "    }\n",
              "    40% {\n",
              "      border-color: transparent;\n",
              "      border-right-color: var(--fill-color);\n",
              "      border-top-color: var(--fill-color);\n",
              "    }\n",
              "    60% {\n",
              "      border-color: transparent;\n",
              "      border-right-color: var(--fill-color);\n",
              "    }\n",
              "    80% {\n",
              "      border-color: transparent;\n",
              "      border-right-color: var(--fill-color);\n",
              "      border-bottom-color: var(--fill-color);\n",
              "    }\n",
              "    90% {\n",
              "      border-color: transparent;\n",
              "      border-bottom-color: var(--fill-color);\n",
              "    }\n",
              "  }\n",
              "</style>\n",
              "\n",
              "  <script>\n",
              "    async function quickchart(key) {\n",
              "      const quickchartButtonEl =\n",
              "        document.querySelector('#' + key + ' button');\n",
              "      quickchartButtonEl.disabled = true;  // To prevent multiple clicks.\n",
              "      quickchartButtonEl.classList.add('colab-df-spinner');\n",
              "      try {\n",
              "        const charts = await google.colab.kernel.invokeFunction(\n",
              "            'suggestCharts', [key], {});\n",
              "      } catch (error) {\n",
              "        console.error('Error during call to suggestCharts:', error);\n",
              "      }\n",
              "      quickchartButtonEl.classList.remove('colab-df-spinner');\n",
              "      quickchartButtonEl.classList.add('colab-df-quickchart-complete');\n",
              "    }\n",
              "    (() => {\n",
              "      let quickchartButtonEl =\n",
              "        document.querySelector('#df-389a233a-3437-46fe-8718-32f50c406099 button');\n",
              "      quickchartButtonEl.style.display =\n",
              "        google.colab.kernel.accessAllowed ? 'block' : 'none';\n",
              "    })();\n",
              "  </script>\n",
              "</div>\n",
              "    </div>\n",
              "  </div>\n"
            ]
          },
          "metadata": {},
          "execution_count": 89
        }
      ]
    },
    {
      "cell_type": "markdown",
      "source": [
        "# Referencias\n",
        "\n",
        "https://vasexperts.com/es/resources/glossary/clickhouse/ (ClickHouse)\n",
        "\n",
        "https://www.adictosaltrabajo.com/2019/02/18/introduccion-a-clickhouse/#01 (Caracteristicas)\n",
        "\n",
        "https://clickhouse.com/docs/en/integrations/python (Instalación)\n",
        "\n",
        "\n",
        "https://www.percona.com/blog/clickhouse-new-opensource-columnar-database/\n",
        "\n",
        "https://www.linkedin.com/pulse/clickhouse-un-motor-de-base-sql-super-rápid-ezequiel-paolillo/?originalSubdomain=es\n"
      ],
      "metadata": {
        "id": "yV9OcNqLe1XM"
      }
    }
  ]
}