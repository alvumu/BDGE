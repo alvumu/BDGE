{
  "nbformat": 4,
  "nbformat_minor": 0,
  "metadata": {
    "colab": {
      "provenance": [],
      "toc_visible": true,
      "authorship_tag": "ABX9TyPr0UEnjNTwmzkHfXh4Bz0R",
      "include_colab_link": true
    },
    "kernelspec": {
      "name": "python3",
      "display_name": "Python 3"
    },
    "language_info": {
      "name": "python"
    }
  },
  "cells": [
    {
      "cell_type": "markdown",
      "metadata": {
        "id": "view-in-github",
        "colab_type": "text"
      },
      "source": [
        "<a href=\"https://colab.research.google.com/github/alvumu/BDGE/blob/main/ClickHouse.ipynb\" target=\"_parent\"><img src=\"https://colab.research.google.com/assets/colab-badge.svg\" alt=\"Open In Colab\"/></a>"
      ]
    },
    {
      "cell_type": "markdown",
      "source": [
        "# **ClickHouse**\n",
        "ClickHouse representa un sistema de gestión de bases de datos (DBMS) de código abierto, centrado en columnas y diseñado específicamente para el procesamiento analítico en línea (OLAP). Esta herramienta innovadora fue desarrollada por Yandex y actualmente impulsa la segunda plataforma de análisis web más extensa, Yandex Metrica. Destacando como el primer almacén de datos SQL de código abierto, ClickHouse ha logrado igualar y superar la escalabilidad y rendimiento de bases de datos reconocidas como Veryica y Snowflake. Su enfoque columnar, combinado con una eficiente gestión de datos, lo posiciona como una opción destacada para abordar desafíos analíticos en entornos que demandan respuestas rápidas y procesamiento eficaz de grandes volúmenes de datos.\n",
        "\n",
        "\n"
      ],
      "metadata": {
        "id": "kaCRPO0_d5zP"
      }
    },
    {
      "cell_type": "markdown",
      "source": [
        "# Características\n",
        "\n",
        "Algunas de las características que ofrece este sistema de gestión de bases de datos son los siguientes :  \n",
        "\n",
        "* Una base de datos orientada a **columna**, sólo almacena los datos.\n",
        "* Los **datos** se comprimen reduciendo el espacio y se **almacenan** en **disco**\n",
        "* Capaz de **procesar** en **paralelo** los datos exprimiendo las capacidades multicores de los servidores.\n",
        "* Destaca por procesar datos mediante vectores, **optimizando** la **eficiencia** de la CPU\n",
        "* Utiliza el **lenguaje SQL** para ejecución de las sentencias.\n",
        "* Permite **actualizar** los **datos en tiempo real** sin bloqueo.\n",
        "* Proporciona **indexación** por **clave primaria**. Hace posible recuperar la información almacenada para un determinado valor o un rango de valores con muy baja latencia y pocos milisegundos.\n",
        "* Puede trabajar con millones de registros en bruto (sin realizar preprocesamientoo previo de los datos) consiguiendo ejecutar **sentencias sin ninguna latencia**\n",
        "* Soporte de **replicación** e **integridad** de datos.\n",
        "\n"
      ],
      "metadata": {
        "id": "m7DqznlPgyIP"
      }
    },
    {
      "cell_type": "markdown",
      "source": [
        "# Instalación\n",
        "\n",
        "A continuación, se procede a la instalación del software de ClickHouse en un entorno Python, con el objetivo de habilitar su uso en Google Colab. Se proporcionarán instrucciones detalladas sobre los pasos necesarios para lograr una integración exitosa de ClickHouse con Python."
      ],
      "metadata": {
        "id": "8ZDeM58pk7Uf"
      }
    },
    {
      "cell_type": "code",
      "execution_count": 1,
      "metadata": {
        "id": "_Kk5o4nMdbeY",
        "outputId": "461aea22-d3d9-461d-c51c-e03876aacef8",
        "colab": {
          "base_uri": "https://localhost:8080/"
        }
      },
      "outputs": [
        {
          "output_type": "stream",
          "name": "stdout",
          "text": [
            "Collecting clickhouse-connect\n",
            "  Downloading clickhouse_connect-0.7.0-cp310-cp310-manylinux_2_17_x86_64.manylinux2014_x86_64.whl (964 kB)\n",
            "\u001b[2K     \u001b[90m━━━━━━━━━━━━━━━━━━━━━━━━━━━━━━━━━━━━━━━━\u001b[0m \u001b[32m964.5/964.5 kB\u001b[0m \u001b[31m3.9 MB/s\u001b[0m eta \u001b[36m0:00:00\u001b[0m\n",
            "\u001b[?25hRequirement already satisfied: certifi in /usr/local/lib/python3.10/dist-packages (from clickhouse-connect) (2023.11.17)\n",
            "Requirement already satisfied: urllib3>=1.26 in /usr/local/lib/python3.10/dist-packages (from clickhouse-connect) (2.0.7)\n",
            "Requirement already satisfied: pytz in /usr/local/lib/python3.10/dist-packages (from clickhouse-connect) (2023.3.post1)\n",
            "Collecting zstandard (from clickhouse-connect)\n",
            "  Downloading zstandard-0.22.0-cp310-cp310-manylinux_2_17_x86_64.manylinux2014_x86_64.whl (5.4 MB)\n",
            "\u001b[2K     \u001b[90m━━━━━━━━━━━━━━━━━━━━━━━━━━━━━━━━━━━━━━━━\u001b[0m \u001b[32m5.4/5.4 MB\u001b[0m \u001b[31m15.8 MB/s\u001b[0m eta \u001b[36m0:00:00\u001b[0m\n",
            "\u001b[?25hCollecting lz4 (from clickhouse-connect)\n",
            "  Downloading lz4-4.3.3-cp310-cp310-manylinux_2_17_x86_64.manylinux2014_x86_64.whl (1.3 MB)\n",
            "\u001b[2K     \u001b[90m━━━━━━━━━━━━━━━━━━━━━━━━━━━━━━━━━━━━━━━━\u001b[0m \u001b[32m1.3/1.3 MB\u001b[0m \u001b[31m14.8 MB/s\u001b[0m eta \u001b[36m0:00:00\u001b[0m\n",
            "\u001b[?25hInstalling collected packages: zstandard, lz4, clickhouse-connect\n",
            "Successfully installed clickhouse-connect-0.7.0 lz4-4.3.3 zstandard-0.22.0\n",
            "Collecting clickhouse-driver\n",
            "  Downloading clickhouse_driver-0.2.6-cp310-cp310-manylinux_2_17_x86_64.manylinux2014_x86_64.whl (740 kB)\n",
            "\u001b[2K     \u001b[90m━━━━━━━━━━━━━━━━━━━━━━━━━━━━━━━━━━━━━━━━\u001b[0m \u001b[32m740.4/740.4 kB\u001b[0m \u001b[31m6.4 MB/s\u001b[0m eta \u001b[36m0:00:00\u001b[0m\n",
            "\u001b[?25hRequirement already satisfied: pytz in /usr/local/lib/python3.10/dist-packages (from clickhouse-driver) (2023.3.post1)\n",
            "Requirement already satisfied: tzlocal in /usr/local/lib/python3.10/dist-packages (from clickhouse-driver) (5.2)\n",
            "Installing collected packages: clickhouse-driver\n",
            "Successfully installed clickhouse-driver-0.2.6\n"
          ]
        }
      ],
      "source": [
        "!pip install clickhouse-connect\n",
        "!pip install clickhouse-driver"
      ]
    },
    {
      "cell_type": "markdown",
      "source": [
        "\n",
        "Para conectarnos a ClickHouse necesitamos :\n",
        "*   **Host** : El host al que deseamos conectarnos\n",
        "*   **Puerto** : El puerto en el que estará escuchando el host, habitualmente el 8443\n",
        "*   **Nombre de usuario** : El usuario por defecto es '*default*'\n",
        "*   **Contraseña** : Contraseña necesaria para establecer la conexión\n",
        "\n",
        "\n",
        "\n"
      ],
      "metadata": {
        "id": "SDdFr0FUSNus"
      }
    },
    {
      "cell_type": "markdown",
      "source": [
        "La información requerida se puede obtener gracias a la interfaz de ClickHouse SQL.\n"
      ],
      "metadata": {
        "id": "fp7gs121TsYe"
      }
    },
    {
      "cell_type": "markdown",
      "source": [
        "En primer lugar, tras habernos registrado en ClickHouse, accedemos a la dirección https://clickhouse.cloud/services . Donde encontraremos lo siguiente:"
      ],
      "metadata": {
        "id": "dxj3t9oUUOXq"
      }
    },
    {
      "cell_type": "markdown",
      "source": [
        "![image.png](data:image/png;base64,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)"
      ],
      "metadata": {
        "id": "6YFrUDOZT86Y"
      }
    },
    {
      "cell_type": "markdown",
      "source": [
        "Para conocer la información de conexión necesaria , hacemos click en la pestaña que indica *Connect*"
      ],
      "metadata": {
        "id": "qY5RrkjfUjeh"
      }
    },
    {
      "cell_type": "markdown",
      "source": [
        "![image.png](data:image/png;base64,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)"
      ],
      "metadata": {
        "id": "nEd1Jw_TU6gm"
      }
    },
    {
      "cell_type": "markdown",
      "source": [
        "Tras esto, se nos abrirá un desplegable , donde seleccionaremos *View connection string*"
      ],
      "metadata": {
        "id": "jMTwxMGHVJFV"
      }
    },
    {
      "cell_type": "markdown",
      "source": [
        "A continuación se mostrará la siguiente pantalla:\n"
      ],
      "metadata": {
        "id": "wuDm0Yy1VQ1R"
      }
    },
    {
      "cell_type": "markdown",
      "source": [
        "![image.png](data:image/png;base64,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)\n"
      ],
      "metadata": {
        "id": "zYmCi08MVU2X"
      }
    },
    {
      "cell_type": "markdown",
      "source": [
        "Aquí podemos observar la información necesaria para llevar a cabo la conexión. Por lo tanto podemos proceder a conectarnos al cliente mediante la función *`get_client`*"
      ],
      "metadata": {
        "id": "TSVD8b7fWOso"
      }
    },
    {
      "cell_type": "code",
      "source": [
        "import clickhouse_connect\n",
        "\n",
        "client = clickhouse_connect.get_client(host='fgi402x8e7.europe-west4.gcp.clickhouse.cloud', port=8443, username='default', password='SY_rjdkJKk7oU')"
      ],
      "metadata": {
        "id": "PjvJ4p_UO8rj"
      },
      "execution_count": 2,
      "outputs": []
    },
    {
      "cell_type": "markdown",
      "source": [
        "# Importación de datos"
      ],
      "metadata": {
        "id": "X3xxAOxhA-w4"
      }
    },
    {
      "cell_type": "markdown",
      "source": [
        "Se define una función para extraer y descargar los archivos en el entorno para su posterior carga en Clickhouse"
      ],
      "metadata": {
        "id": "E8rXodEdBFOu"
      }
    },
    {
      "cell_type": "code",
      "execution_count": 3,
      "metadata": {
        "id": "H0XhGi4-UYND"
      },
      "outputs": [],
      "source": [
        "import gzip\n",
        "from urllib.request import Request,urlopen\n",
        "import io\n",
        "import os\n",
        "import os.path as path\n",
        "\n",
        "def download_csv(baseurl, filename):\n",
        "    file = path.abspath(path.join(os.getcwd(),filename))\n",
        "    request = Request(baseurl + filename + '.gz')\n",
        "    response = urlopen(request)\n",
        "    buf = io.BytesIO(response.read())\n",
        "    f = gzip.GzipFile(fileobj=buf)\n",
        "    data = f.read()\n",
        "    with open (filename, 'wb') as ff:\n",
        "      ff.write(data)\n",
        "\n",
        "baseurl = 'https://raw.githubusercontent.com/dsevilla/bdge-data/master/es.stackoverflow/'\n",
        "download_csv(baseurl, 'Posts.csv')\n",
        "download_csv(baseurl, 'Users.csv')\n",
        "download_csv(baseurl, 'Tags.csv')\n",
        "download_csv(baseurl, 'Comments.csv')\n",
        "download_csv(baseurl, 'Votes.csv')"
      ]
    },
    {
      "cell_type": "markdown",
      "source": [
        "Se crea una base de datos donde se almacenarán las tablas relacionadas con el trabajo. Esta base de datos tendrá el nombre *stackoverflow*"
      ],
      "metadata": {
        "id": "cGDU72YfBTrK"
      }
    },
    {
      "cell_type": "code",
      "source": [
        "client.query(\"CREATE DATABASE IF NOT EXISTS stackoverflow\")"
      ],
      "metadata": {
        "id": "riWCruHWQkES",
        "outputId": "6fca8ca0-1064-48ef-a913-353b76f52d34",
        "colab": {
          "base_uri": "https://localhost:8080/"
        }
      },
      "execution_count": 4,
      "outputs": [
        {
          "output_type": "execute_result",
          "data": {
            "text/plain": [
              "<clickhouse_connect.driver.query.QueryResult at 0x7e852611fc70>"
            ]
          },
          "metadata": {},
          "execution_count": 4
        }
      ]
    },
    {
      "cell_type": "markdown",
      "source": [
        "Se define la tabla que almacenará la información relativa a los Post"
      ],
      "metadata": {
        "id": "yedvetCVBdLx"
      }
    },
    {
      "cell_type": "code",
      "source": [
        "client.query(\"DROP TABLE IF EXISTS stackoverflow.PostsPart\")\n",
        "client.query(\"\"\"\n",
        "CREATE TABLE IF NOT EXISTS stackoverflow.PostsPart\n",
        "(\n",
        "    Id Int32,\n",
        "    AcceptedAnswerId Nullable(Int32) DEFAULT NULL,\n",
        "    AnswerCount Nullable(Int32) DEFAULT 0,\n",
        "    Body String,\n",
        "    ClosedDate Nullable(DateTime) DEFAULT NULL,\n",
        "    CommentCount Nullable(Int32) DEFAULT 0,\n",
        "    CommunityOwnedDate Nullable(DateTime) DEFAULT NULL,\n",
        "    CreationDate Nullable(DateTime) DEFAULT NULL,\n",
        "    FavoriteCount Nullable(Int32) DEFAULT 0,\n",
        "    LastActivityDate Nullable(DateTime) DEFAULT NULL,\n",
        "    LastEditDate Nullable(DateTime) DEFAULT NULL,\n",
        "    LastEditorDisplayName String,\n",
        "    LastEditorUserId Nullable(Int32) DEFAULT NULL,\n",
        "    OwnerDisplayName String,\n",
        "    OwnerUserId Nullable(Int32) DEFAULT NULL,\n",
        "    ParentId Nullable(Int32) DEFAULT NULL,\n",
        "    PostTypeId UInt8,\n",
        "    Score Int32 DEFAULT 0,\n",
        "    Tags String,\n",
        "    Title String,\n",
        "    ViewCount Nullable(Int32) DEFAULT 0\n",
        ") ENGINE = MergeTree\n",
        " PRIMARY KEY Id\n",
        " ORDER BY Id;\"\"\")"
      ],
      "metadata": {
        "id": "t-Qd7tzhVNL_",
        "outputId": "d7b83fc9-13b9-47b9-dbc8-24ad9eae9893",
        "colab": {
          "base_uri": "https://localhost:8080/"
        }
      },
      "execution_count": 5,
      "outputs": [
        {
          "output_type": "execute_result",
          "data": {
            "text/plain": [
              "<clickhouse_connect.driver.query.QueryResult at 0x7e852611f9d0>"
            ]
          },
          "metadata": {},
          "execution_count": 5
        }
      ]
    },
    {
      "cell_type": "markdown",
      "source": [
        "Tras crear la tabla, se importan que completarán la tabla. Para ello se usa la función **insert_file**"
      ],
      "metadata": {
        "id": "E1v5Ybqv2Zxd"
      }
    },
    {
      "cell_type": "code",
      "source": [
        "from clickhouse_connect.driver.tools import insert_file\n",
        "\n",
        "insert_file(client, 'PostsPart', 'Posts.csv',\n",
        "            settings={'input_format_allow_errors_ratio': .2,\n",
        "                      'input_format_allow_errors_num': 5},\n",
        "            database = \"stackoverflow\")\n"
      ],
      "metadata": {
        "id": "as2GIe_BZYHh",
        "outputId": "4dfd96e1-2426-4b07-eb82-253ea624558b",
        "colab": {
          "base_uri": "https://localhost:8080/"
        }
      },
      "execution_count": 6,
      "outputs": [
        {
          "output_type": "execute_result",
          "data": {
            "text/plain": [
              "<clickhouse_connect.driver.summary.QuerySummary at 0x7e852611f850>"
            ]
          },
          "metadata": {},
          "execution_count": 6
        }
      ]
    },
    {
      "cell_type": "markdown",
      "source": [
        "Comprobamos que los datos se han añadido a la tabla correctamente"
      ],
      "metadata": {
        "id": "hf4Wgl2q31R2"
      }
    },
    {
      "cell_type": "code",
      "source": [
        "q = client.query('SELECT count(*) FROM stackoverflow.PostsPart')\n",
        "q.result_columns"
      ],
      "metadata": {
        "colab": {
          "base_uri": "https://localhost:8080/"
        },
        "id": "EBrZGKYR2w1w",
        "outputId": "fbc95e2f-d542-492a-f622-52a398ab5050"
      },
      "execution_count": 7,
      "outputs": [
        {
          "output_type": "execute_result",
          "data": {
            "text/plain": [
              "[[76278]]"
            ]
          },
          "metadata": {},
          "execution_count": 7
        }
      ]
    },
    {
      "cell_type": "markdown",
      "source": [
        "Se repite el mismo procedimiento para los distintos ficheros\n"
      ],
      "metadata": {
        "id": "jxdXeUTx4DpR"
      }
    },
    {
      "cell_type": "code",
      "source": [
        "client.query(\"DROP TABLE IF EXISTS stackoverflow.Users\")\n",
        "client.query(\"\"\"\n",
        "CREATE TABLE IF NOT EXISTS stackoverflow.Users\n",
        "(\n",
        "    Id Int32,\n",
        "    AboutMe String,\n",
        "    AccountID Int32,\n",
        "    Age Nullable(Int32),\n",
        "    CreationDate Nullable(DateTime),\n",
        "    DisplayName String,\n",
        "    DownVotes Nullable(Int32) DEFAULT 0,\n",
        "    LastAccessDate Nullable(Datetime),\n",
        "    Location String,\n",
        "    ProfileImageUrl String,\n",
        "    Reputation Nullable(Int32) DEFAULT 0,\n",
        "    UpVotes Nullable(Int32) DEFAULT 0,\n",
        "    Views Nullable(Int32) DEFAULT 0,\n",
        "    WebsiteUrl String\n",
        ") ENGINE = MergeTree\n",
        " PRIMARY KEY Id\n",
        " ORDER BY Id;\"\"\")\n",
        "\n",
        "insert_file(client, 'Users', 'Users.csv',\n",
        "            settings={'input_format_allow_errors_ratio': .2,\n",
        "                      'input_format_allow_errors_num': 5},\n",
        "            database = \"stackoverflow\")\n"
      ],
      "metadata": {
        "outputId": "009b9325-b0fb-457a-d988-4940f0d4c931",
        "colab": {
          "base_uri": "https://localhost:8080/"
        },
        "id": "VrfjWMeh4UO-"
      },
      "execution_count": 8,
      "outputs": [
        {
          "output_type": "execute_result",
          "data": {
            "text/plain": [
              "<clickhouse_connect.driver.summary.QuerySummary at 0x7e855d0fff40>"
            ]
          },
          "metadata": {},
          "execution_count": 8
        }
      ]
    },
    {
      "cell_type": "code",
      "source": [
        "\n",
        "client.query(\"DROP TABLE IF EXISTS stackoverflow.Tags\")\n",
        "client.query(\"\"\"\n",
        "CREATE TABLE IF NOT EXISTS stackoverflow.Tags\n",
        "(\n",
        "    Id Int32,\n",
        "    Count Int32 DEFAULT 0,\n",
        "    ExcerptPostId Nullable(Int32) DEFAULT NULL,\n",
        "    TagName String,\n",
        "    WikiPostId Nullable(Int32) DEFAULT NULL,\n",
        ") ENGINE = MergeTree()\n",
        " PRIMARY KEY Id\n",
        " ORDER BY Id;\"\"\")\n",
        "\n",
        "insert_file(client, 'Tags', 'Tags.csv',\n",
        "            settings={'input_format_allow_errors_ratio': .2,\n",
        "                      'input_format_allow_errors_num': 5},\n",
        "            database = \"stackoverflow\")\n"
      ],
      "metadata": {
        "colab": {
          "base_uri": "https://localhost:8080/"
        },
        "id": "EK8fsrsV4XG5",
        "outputId": "29aad95a-ff55-4155-c8eb-e1eb01c48680"
      },
      "execution_count": 9,
      "outputs": [
        {
          "output_type": "execute_result",
          "data": {
            "text/plain": [
              "<clickhouse_connect.driver.summary.QuerySummary at 0x7e8525e743d0>"
            ]
          },
          "metadata": {},
          "execution_count": 9
        }
      ]
    },
    {
      "cell_type": "code",
      "source": [
        "client.query(\"DROP TABLE IF EXISTS stackoverflow.Votes\")\n",
        "client.query(\"\"\"\n",
        "CREATE TABLE IF NOT EXISTS stackoverflow.Votes\n",
        "(\n",
        "    Id Int32,\n",
        "    BountyAmount Int32 DEFAULT 0,\n",
        "    CreationDate Nullable(DateTime) DEFAULT NULL,\n",
        "    PostId Nullable(Int32) DEFAULT NULL,\n",
        "    UserId Nullable(Int32) DEFAULT NULL,\n",
        "    VoteTypeId Int32,\n",
        ") ENGINE = MergeTree()\n",
        " PRIMARY KEY Id\n",
        " ORDER BY Id;\"\"\")\n",
        "\n",
        "insert_file(client, 'Votes', 'Votes.csv',\n",
        "            settings={'input_format_allow_errors_ratio': .2,\n",
        "                      'input_format_allow_errors_num': 5},\n",
        "            database = \"stackoverflow\")"
      ],
      "metadata": {
        "colab": {
          "base_uri": "https://localhost:8080/"
        },
        "id": "YJM0kUUT535I",
        "outputId": "f67c9284-76e3-42fd-fb76-2668753c5f65"
      },
      "execution_count": 10,
      "outputs": [
        {
          "output_type": "execute_result",
          "data": {
            "text/plain": [
              "<clickhouse_connect.driver.summary.QuerySummary at 0x7e855c27d2d0>"
            ]
          },
          "metadata": {},
          "execution_count": 10
        }
      ]
    },
    {
      "cell_type": "code",
      "source": [
        "client.query(\"DROP TABLE IF EXISTS stackoverflow.Comments\")\n",
        "client.query(\"\"\"\n",
        "CREATE TABLE IF NOT EXISTS stackoverflow.Comments\n",
        "(\n",
        "    Id Int32,\n",
        "    CreationDate Nullable(DateTime) DEFAULT NULL,\n",
        "    PostId Nullable(Int32) DEFAULT NULL,\n",
        "    Score Int32 DEFAULT 0,\n",
        "    Text String,\n",
        "    UserDisplayName String,\n",
        "    UserId Nullable(Int32) DEFAULT NULL\n",
        "\n",
        ") ENGINE = MergeTree\n",
        "\n",
        " PRIMARY KEY Id\n",
        " ORDER BY Id;\"\"\")\n",
        "\n",
        "insert_file(client, 'Comments', 'Comments.csv',\n",
        "            settings={'input_format_allow_errors_ratio': .2,\n",
        "                      'input_format_allow_errors_num': 5},\n",
        "            database = \"stackoverflow\")"
      ],
      "metadata": {
        "colab": {
          "base_uri": "https://localhost:8080/"
        },
        "id": "VaoL7sGl6SC4",
        "outputId": "39841ca5-5723-4544-cd30-5bd7d25ef81d"
      },
      "execution_count": 11,
      "outputs": [
        {
          "output_type": "execute_result",
          "data": {
            "text/plain": [
              "<clickhouse_connect.driver.summary.QuerySummary at 0x7e8525e76140>"
            ]
          },
          "metadata": {},
          "execution_count": 11
        }
      ]
    },
    {
      "cell_type": "code",
      "source": [
        "q = client.query('SELECT count(*) FROM stackoverflow.Users')\n",
        "q.result_columns"
      ],
      "metadata": {
        "colab": {
          "base_uri": "https://localhost:8080/"
        },
        "id": "4aZfWhOn4L2F",
        "outputId": "d32eb0f7-bb5c-47e1-d67f-a7ec7ddcd225"
      },
      "execution_count": 12,
      "outputs": [
        {
          "output_type": "execute_result",
          "data": {
            "text/plain": [
              "[[49033]]"
            ]
          },
          "metadata": {},
          "execution_count": 12
        }
      ]
    },
    {
      "cell_type": "code",
      "source": [
        "q = client.query('SELECT count(*) FROM stackoverflow.Votes')\n",
        "q.result_columns"
      ],
      "metadata": {
        "colab": {
          "base_uri": "https://localhost:8080/"
        },
        "id": "IYIxDeeV5wxR",
        "outputId": "aad46a2c-2a63-4380-eadc-a8467126de7f"
      },
      "execution_count": 13,
      "outputs": [
        {
          "output_type": "execute_result",
          "data": {
            "text/plain": [
              "[[165621]]"
            ]
          },
          "metadata": {},
          "execution_count": 13
        }
      ]
    },
    {
      "cell_type": "code",
      "source": [
        "q = client.query('SELECT count(*) FROM stackoverflow.Tags')\n",
        "q.result_columns"
      ],
      "metadata": {
        "colab": {
          "base_uri": "https://localhost:8080/"
        },
        "id": "6IZnUm5e8LXR",
        "outputId": "34c79474-2431-4133-b5a8-ed61fd41a21e"
      },
      "execution_count": 14,
      "outputs": [
        {
          "output_type": "execute_result",
          "data": {
            "text/plain": [
              "[[1554]]"
            ]
          },
          "metadata": {},
          "execution_count": 14
        }
      ]
    },
    {
      "cell_type": "code",
      "source": [
        "q = client.query('SELECT count(*) FROM stackoverflow.Comments')\n",
        "q.result_columns"
      ],
      "metadata": {
        "colab": {
          "base_uri": "https://localhost:8080/"
        },
        "id": "_z0_k9vE8PYy",
        "outputId": "faaa7cc5-23d1-429a-bc00-7611abfb7613"
      },
      "execution_count": 15,
      "outputs": [
        {
          "output_type": "execute_result",
          "data": {
            "text/plain": [
              "[[123662]]"
            ]
          },
          "metadata": {},
          "execution_count": 15
        }
      ]
    },
    {
      "cell_type": "markdown",
      "source": [
        "# Ejercicios\n",
        "\n",
        "A continuación se realizan los ejercicios relativos a los RQ´s\n",
        "\n"
      ],
      "metadata": {
        "id": "L134zOMNCHF6"
      }
    },
    {
      "cell_type": "markdown",
      "source": [
        "## RQ1\n",
        "¿Cual es la distribucion de desarrolladores que postean preguntas ?\n",
        "\n"
      ],
      "metadata": {
        "id": "_uxaEwd5CSgr"
      }
    },
    {
      "cell_type": "code",
      "source": [
        "rq1 = client.query(\"\"\"SELECT\n",
        "    QuestionCount,\n",
        "    COUNT(*) AS CantidadDevs\n",
        "FROM (\n",
        "    SELECT\n",
        "        OwnerUserId AS DeveloperId,\n",
        "        COUNT(*) AS QuestionCount\n",
        "    FROM stackoverflow.PostsPart\n",
        "    WHERE PostTypeId = 1\n",
        "    GROUP BY OwnerUserId\n",
        ") AS R\n",
        "GROUP BY QuestionCount\n",
        "ORDER BY QuestionCount\n",
        "\"\"\")\n",
        "\n"
      ],
      "metadata": {
        "id": "r8TDAHo_C39B"
      },
      "execution_count": 16,
      "outputs": []
    },
    {
      "cell_type": "code",
      "source": [
        "rq1.result_rows"
      ],
      "metadata": {
        "colab": {
          "base_uri": "https://localhost:8080/"
        },
        "id": "2oAsptLnDERT",
        "outputId": "f6ed5754-16a6-4e6c-b41d-3de625ba89de"
      },
      "execution_count": 17,
      "outputs": [
        {
          "output_type": "execute_result",
          "data": {
            "text/plain": [
              "[(1, 6840),\n",
              " (2, 1603),\n",
              " (3, 706),\n",
              " (4, 407),\n",
              " (5, 295),\n",
              " (6, 184),\n",
              " (7, 142),\n",
              " (8, 105),\n",
              " (9, 76),\n",
              " (10, 79),\n",
              " (11, 49),\n",
              " (12, 43),\n",
              " (13, 34),\n",
              " (14, 37),\n",
              " (15, 35),\n",
              " (16, 24),\n",
              " (17, 20),\n",
              " (18, 13),\n",
              " (19, 19),\n",
              " (20, 20),\n",
              " (21, 15),\n",
              " (22, 16),\n",
              " (23, 9),\n",
              " (24, 16),\n",
              " (25, 10),\n",
              " (26, 12),\n",
              " (27, 5),\n",
              " (28, 6),\n",
              " (29, 11),\n",
              " (30, 9),\n",
              " (31, 4),\n",
              " (32, 4),\n",
              " (33, 3),\n",
              " (34, 2),\n",
              " (35, 4),\n",
              " (36, 3),\n",
              " (37, 6),\n",
              " (38, 2),\n",
              " (39, 4),\n",
              " (40, 2),\n",
              " (41, 3),\n",
              " (42, 1),\n",
              " (43, 4),\n",
              " (44, 2),\n",
              " (45, 3),\n",
              " (46, 3),\n",
              " (47, 4),\n",
              " (48, 5),\n",
              " (49, 2),\n",
              " (50, 4),\n",
              " (51, 3),\n",
              " (54, 1),\n",
              " (55, 2),\n",
              " (56, 1),\n",
              " (60, 1),\n",
              " (62, 2),\n",
              " (64, 2),\n",
              " (69, 1),\n",
              " (71, 1),\n",
              " (72, 1),\n",
              " (75, 1),\n",
              " (79, 1),\n",
              " (83, 2),\n",
              " (84, 1),\n",
              " (85, 1),\n",
              " (94, 1),\n",
              " (95, 1),\n",
              " (96, 1),\n",
              " (107, 1),\n",
              " (111, 1),\n",
              " (114, 1),\n",
              " (115, 1),\n",
              " (119, 2),\n",
              " (130, 1),\n",
              " (144, 1),\n",
              " (158, 1),\n",
              " (177, 1),\n",
              " (223, 1)]"
            ]
          },
          "metadata": {},
          "execution_count": 17
        }
      ]
    },
    {
      "cell_type": "code",
      "source": [
        "from matplotlib import pyplot as plt\n",
        "from IPython.display import display, clear_output\n",
        "import pandas as pd\n",
        "\n",
        "df = pd.DataFrame(rq1.result_rows, columns=['QuestionCount', 'CantidadDevs'])\n",
        "\n",
        "print(df)\n",
        "plt.bar(df[\"QuestionCount\"][0:100], df[\"CantidadDevs\"][0:100])\n",
        "plt.xlim(0,101)\n",
        "plt.yscale(\"log\")\n",
        "plt.title(\"Distribucion de devs que postean preguntas\")\n",
        "plt.xlabel(\"Devs\")\n",
        "\n",
        "# Muestra la gráfica\n",
        "display(plt.gcf())\n",
        "\n",
        "# Borra la salida de texto\n",
        "clear_output(wait=True)\n"
      ],
      "metadata": {
        "colab": {
          "base_uri": "https://localhost:8080/",
          "height": 472
        },
        "id": "FFJqbGNKDPwQ",
        "outputId": "c05d3f09-fb3c-4453-944d-9f92b7db06af"
      },
      "execution_count": 18,
      "outputs": [
        {
          "output_type": "display_data",
          "data": {
            "text/plain": [
              "<Figure size 640x480 with 1 Axes>"
            ],
            "image/png": "[encoded data removed]"
          },
          "metadata": {}
        }
      ]
    },
    {
      "cell_type": "markdown",
      "source": [
        "##RQ2\n",
        "¿Cual es la distribucion de desarrolladores que contestan preguntas?"
      ],
      "metadata": {
        "id": "NhSgnXrkFYjf"
      }
    },
    {
      "cell_type": "code",
      "source": [
        "rq2 = client.query(\"\"\"\n",
        "SELECT\n",
        "    QuestionCount,\n",
        "    COUNT(*) AS CantidadDevs\n",
        "FROM (\n",
        "    SELECT\n",
        "        OwnerUserId AS DeveloperId,\n",
        "        COUNT(*) AS QuestionCount\n",
        "    FROM stackoverflow.PostsPart\n",
        "    WHERE PostTypeId = 2\n",
        "    GROUP BY OwnerUserId\n",
        ") AS R\n",
        "GROUP BY QuestionCount\n",
        "ORDER BY QuestionCount\n",
        "\"\"\")\n"
      ],
      "metadata": {
        "id": "jM6JVnkPFXYp"
      },
      "execution_count": 28,
      "outputs": []
    },
    {
      "cell_type": "code",
      "source": [
        "rq2.result_rows"
      ],
      "metadata": {
        "colab": {
          "base_uri": "https://localhost:8080/"
        },
        "id": "i-NIsplyFqxW",
        "outputId": "798f3476-c91a-43fd-b044-41f444e15993"
      },
      "execution_count": 20,
      "outputs": [
        {
          "output_type": "execute_result",
          "data": {
            "text/plain": [
              "[(1, 3358),\n",
              " (2, 998),\n",
              " (3, 450),\n",
              " (4, 263),\n",
              " (5, 194),\n",
              " (6, 145),\n",
              " (7, 108),\n",
              " (8, 71),\n",
              " (9, 81),\n",
              " (10, 51),\n",
              " (11, 41),\n",
              " (12, 31),\n",
              " (13, 32),\n",
              " (14, 20),\n",
              " (15, 18),\n",
              " (16, 19),\n",
              " (17, 27),\n",
              " (18, 23),\n",
              " (19, 19),\n",
              " (20, 11),\n",
              " (21, 17),\n",
              " (22, 13),\n",
              " (23, 10),\n",
              " (24, 8),\n",
              " (25, 8),\n",
              " (26, 10),\n",
              " (27, 3),\n",
              " (28, 7),\n",
              " (29, 8),\n",
              " (30, 8),\n",
              " (31, 4),\n",
              " (32, 11),\n",
              " (33, 6),\n",
              " (34, 2),\n",
              " (35, 9),\n",
              " (36, 4),\n",
              " (37, 3),\n",
              " (38, 5),\n",
              " (39, 3),\n",
              " (40, 2),\n",
              " (41, 4),\n",
              " (42, 5),\n",
              " (43, 3),\n",
              " (44, 2),\n",
              " (45, 1),\n",
              " (46, 8),\n",
              " (47, 2),\n",
              " (48, 6),\n",
              " (49, 2),\n",
              " (50, 3),\n",
              " (51, 5),\n",
              " (52, 3),\n",
              " (53, 7),\n",
              " (54, 1),\n",
              " (55, 4),\n",
              " (56, 2),\n",
              " (57, 2),\n",
              " (62, 1),\n",
              " (64, 2),\n",
              " (65, 1),\n",
              " (66, 4),\n",
              " (68, 1),\n",
              " (69, 3),\n",
              " (70, 1),\n",
              " (72, 1),\n",
              " (74, 1),\n",
              " (75, 2),\n",
              " (76, 1),\n",
              " (77, 2),\n",
              " (78, 2),\n",
              " (80, 2),\n",
              " (81, 4),\n",
              " (82, 1),\n",
              " (83, 1),\n",
              " (84, 2),\n",
              " (86, 1),\n",
              " (88, 1),\n",
              " (89, 2),\n",
              " (90, 1),\n",
              " (93, 2),\n",
              " (97, 3),\n",
              " (98, 1),\n",
              " (100, 1),\n",
              " (102, 2),\n",
              " (104, 2),\n",
              " (105, 2),\n",
              " (107, 1),\n",
              " (108, 1),\n",
              " (109, 1),\n",
              " (110, 2),\n",
              " (112, 2),\n",
              " (114, 2),\n",
              " (117, 1),\n",
              " (118, 1),\n",
              " (125, 1),\n",
              " (126, 1),\n",
              " (127, 1),\n",
              " (135, 1),\n",
              " (139, 1),\n",
              " (148, 1),\n",
              " (149, 1),\n",
              " (152, 1),\n",
              " (161, 1),\n",
              " (168, 1),\n",
              " (182, 1),\n",
              " (184, 1),\n",
              " (190, 1),\n",
              " (200, 1),\n",
              " (204, 1),\n",
              " (208, 1),\n",
              " (210, 1),\n",
              " (224, 1),\n",
              " (227, 2),\n",
              " (246, 2),\n",
              " (250, 1),\n",
              " (258, 1),\n",
              " (259, 1),\n",
              " (262, 1),\n",
              " (265, 1),\n",
              " (266, 1),\n",
              " (283, 1),\n",
              " (327, 1),\n",
              " (329, 1),\n",
              " (343, 1),\n",
              " (352, 1),\n",
              " (353, 1),\n",
              " (373, 1),\n",
              " (381, 1),\n",
              " (411, 1),\n",
              " (451, 1),\n",
              " (469, 1),\n",
              " (542, 1),\n",
              " (669, 1),\n",
              " (729, 1),\n",
              " (2035, 1)]"
            ]
          },
          "metadata": {},
          "execution_count": 20
        }
      ]
    },
    {
      "cell_type": "code",
      "source": [
        "from matplotlib import pyplot as plt\n",
        "from IPython.display import display, clear_output\n",
        "import pandas as pd\n",
        "\n",
        "df = pd.DataFrame(rq2.result_rows, columns=['QuestionCount', 'CantidadDevs'])\n",
        "\n",
        "print(df)\n",
        "plt.bar(df[\"QuestionCount\"][0:100], df[\"CantidadDevs\"][0:100])\n",
        "plt.xlim(0,101)\n",
        "plt.yscale(\"log\")\n",
        "plt.title(\"Distribucion de devs que contestan preguntas\")\n",
        "plt.xlabel(\"Devs\")\n",
        "\n",
        "# Muestra la gráfica\n",
        "display(plt.gcf())\n",
        "\n",
        "# Borra la salida de texto\n",
        "clear_output(wait=True)\n"
      ],
      "metadata": {
        "colab": {
          "base_uri": "https://localhost:8080/",
          "height": 472
        },
        "id": "J1r_WCAwGCwY",
        "outputId": "8f0141fe-4d7c-495f-bd1f-30e05cd0b15f"
      },
      "execution_count": 21,
      "outputs": [
        {
          "output_type": "display_data",
          "data": {
            "text/plain": [
              "<Figure size 640x480 with 1 Axes>"
            ],
            "image/png": "[encoded data removed]"
          },
          "metadata": {}
        }
      ]
    },
    {
      "cell_type": "markdown",
      "source": [
        "## RQ3\n",
        "¿ Los desarrolladores que preguntan tambien responden ?"
      ],
      "metadata": {
        "id": "imXA2wWGGw8O"
      }
    },
    {
      "cell_type": "code",
      "source": [
        "rq3 = client.query(\"\"\"\n",
        "SELECT\n",
        "    ResponseRange,\n",
        "    COUNT(*) AS CountPerRange\n",
        "FROM (\n",
        "    SELECT\n",
        "        CASE\n",
        "            WHEN ResponsePercentage = 100 THEN '100%'\n",
        "            WHEN ResponsePercentage > 100 THEN 'Más de 100%'\n",
        "            WHEN ResponsePercentage < 1 THEN 'Nunca han respondido'\n",
        "            WHEN ResponsePercentage < 10 THEN '1%-9%'\n",
        "            WHEN ResponsePercentage < 20 THEN '10%-19%'\n",
        "            WHEN ResponsePercentage < 30 THEN '20%-29%'\n",
        "            WHEN ResponsePercentage < 40 THEN '30%-39%'\n",
        "            WHEN ResponsePercentage < 50 THEN '40%-49%'\n",
        "            WHEN ResponsePercentage < 60 THEN '50%-59%'\n",
        "            WHEN ResponsePercentage < 70 THEN '60%-69%'\n",
        "            WHEN ResponsePercentage < 80 THEN '70%-79%'\n",
        "            WHEN ResponsePercentage < 90 THEN '80%-89%'\n",
        "            WHEN ResponsePercentage < 100 THEN '90%-99%'\n",
        "            ELSE 'Nunca han respondido'\n",
        "        END AS ResponseRange\n",
        "    FROM (\n",
        "        SELECT\n",
        "            OwnerUserId,\n",
        "            COUNT(*) AS TotalPosts,\n",
        "            SUM(CASE WHEN PostTypeId = 2 THEN 1 ELSE 0 END) AS Respuestas,\n",
        "            (SUM(CASE WHEN PostTypeId = 2 THEN 1 ELSE 0 END) * 100.0 / COUNT(*)) AS ResponsePercentage\n",
        "        FROM\n",
        "            stackoverflow.PostsPart\n",
        "        GROUP BY\n",
        "            OwnerUserId\n",
        "    ) AS a\n",
        ") AS b\n",
        "GROUP BY ResponseRange\n",
        "ORDER BY ResponseRange\n",
        "\n",
        "\"\"\")"
      ],
      "metadata": {
        "id": "AHKtLMzlG3N7"
      },
      "execution_count": 30,
      "outputs": []
    },
    {
      "cell_type": "code",
      "source": [
        "rq3.result_rows"
      ],
      "metadata": {
        "colab": {
          "base_uri": "https://localhost:8080/"
        },
        "id": "mayctdSjHGy6",
        "outputId": "e2fe9c63-01b2-4150-96a4-482f1a19a632"
      },
      "execution_count": 31,
      "outputs": [
        {
          "output_type": "execute_result",
          "data": {
            "text/plain": [
              "[('1%-9%', 125),\n",
              " ('10%-19%', 265),\n",
              " ('100%', 3543),\n",
              " ('20%-29%', 377),\n",
              " ('30%-39%', 376),\n",
              " ('40%-49%', 120),\n",
              " ('50%-59%', 776),\n",
              " ('60%-69%', 230),\n",
              " ('70%-79%', 154),\n",
              " ('80%-89%', 164),\n",
              " ('90%-99%', 135),\n",
              " ('Nunca han respondido', 8244)]"
            ]
          },
          "metadata": {},
          "execution_count": 31
        }
      ]
    },
    {
      "cell_type": "code",
      "source": [
        "df = pd.DataFrame(rq3.result_rows, columns=['ResponseRange', 'CountPerRange'])\n",
        "\n",
        "custom_order = [\n",
        "    'Nunca han respondido', '1%-9%', '10%-19%', '20%-29%', '30%-39%', '40%-49%', '50%-59%',\n",
        "    '60%-69%', '70%-79%', '80%-89%', '90%-99%', '100%', 'Más de 100%'\n",
        "]\n",
        "\n",
        "# Reordena los datos en el DataFrame según el orden personalizado\n",
        "df['ResponseRange'] = pd.Categorical(df['ResponseRange'], categories=custom_order, ordered=True)\n",
        "df = df.sort_values('ResponseRange')\n",
        "\n",
        "# Crear el gráfico de barras\n",
        "plt.figure(figsize=(10, 6))\n",
        "plt.bar(df[\"ResponseRange\"], df[\"CountPerRange\"])\n",
        "\n",
        "# Rotar las etiquetas del eje x para que sean legibles\n",
        "plt.xticks(rotation=45, ha=\"right\")\n",
        "\n",
        "# Etiquetas para los ejes x e y\n",
        "plt.xlabel(\"Rango de Respuesta\")\n",
        "plt.ylabel(\"Cantidad\")\n",
        "\n",
        "# Título del gráfico\n",
        "plt.title(\"Distribución de Respuestas por Rango\")\n",
        "\n",
        "# Mostrar el gráfico\n",
        "plt.tight_layout()\n",
        "plt.show()\n"
      ],
      "metadata": {
        "colab": {
          "base_uri": "https://localhost:8080/",
          "height": 607
        },
        "id": "c_QIXuXFHLFh",
        "outputId": "1cef9aa2-056c-4bf7-e96b-5e9ca72bc537"
      },
      "execution_count": 32,
      "outputs": [
        {
          "output_type": "display_data",
          "data": {
            "text/plain": [
              "<Figure size 1000x600 with 1 Axes>"
            ],
            "image/png": "[encoded data removed]"
          },
          "metadata": {}
        }
      ]
    },
    {
      "cell_type": "markdown",
      "source": [
        "## RQ4\n",
        "¿ Los desarrolladores que reciben ayuda devuelven el favor ?"
      ],
      "metadata": {
        "id": "VvxeLQD8INuH"
      }
    },
    {
      "cell_type": "code",
      "source": [
        "rq4 = client.query(\"\"\"\n",
        "-- Creamos una tabla que almacena Usuario que ha hecho la pregunta, Usuario al que ha respondido\"\n",
        "WITH PreguntasRespuestas AS (\n",
        "    SELECT DISTINCT\n",
        "        q.OwnerUserId AS AskedUser,\n",
        "        a.OwnerUserId AS AnswerUser\n",
        "    FROM\n",
        "        stackoverflow.PostsPart AS q\n",
        "        JOIN stackoverflow.PostsPart AS a ON q.Id = a.ParentId\n",
        "    WHERE\n",
        "        q.PostTypeId = 1\n",
        "        AND a.PostTypeId = 2\n",
        ")\n",
        "\n",
        "SELECT\n",
        "    qa1.AskedUser AS Pregunta1Usuario,\n",
        "    qa2.AskedUser AS Pregunta2Usuario\n",
        "FROM\n",
        "    PreguntasRespuestas AS qa1\n",
        "    JOIN PreguntasRespuestas AS qa2 ON qa1.AskedUser = qa2.AnswerUser\n",
        "                                   AND qa2.AskedUser = qa1.AnswerUser\n",
        "WHERE\n",
        "    qa1.AskedUser < qa2.AskedUser\n",
        "ORDER BY\n",
        "    Pregunta1Usuario\n",
        "\n",
        "\"\"\")\n"
      ],
      "metadata": {
        "id": "LW4weq6xIcZm"
      },
      "execution_count": 33,
      "outputs": []
    },
    {
      "cell_type": "code",
      "source": [
        "rq4.result_rows"
      ],
      "metadata": {
        "colab": {
          "base_uri": "https://localhost:8080/"
        },
        "id": "pV6RInwcIgx4",
        "outputId": "5ffdbe2c-6169-49d6-a768-27399573fba0"
      },
      "execution_count": 34,
      "outputs": [
        {
          "output_type": "execute_result",
          "data": {
            "text/plain": [
              "[(21, 1184),\n",
              " (22, 729),\n",
              " (22, 342),\n",
              " (22, 288),\n",
              " (23, 25),\n",
              " (24, 95),\n",
              " (24, 463),\n",
              " (24, 301),\n",
              " (24, 19610),\n",
              " (24, 25),\n",
              " (24, 2230),\n",
              " (25, 288),\n",
              " (25, 225),\n",
              " (34, 250),\n",
              " (65, 78),\n",
              " (65, 13558),\n",
              " (65, 1184),\n",
              " (65, 7661),\n",
              " (73, 6497),\n",
              " (73, 29967),\n",
              " (73, 9897),\n",
              " (73, 2224),\n",
              " (73, 250),\n",
              " (78, 250),\n",
              " (83, 301),\n",
              " (83, 29967),\n",
              " (83, 100),\n",
              " (95, 29967),\n",
              " (100, 399),\n",
              " (100, 2004),\n",
              " (100, 729),\n",
              " (100, 2838),\n",
              " (100, 353),\n",
              " (100, 529),\n",
              " (100, 638),\n",
              " (100, 187),\n",
              " (120, 531),\n",
              " (154, 13938),\n",
              " (191, 2230),\n",
              " (227, 2004),\n",
              " (227, 400),\n",
              " (227, 342),\n",
              " (250, 10576),\n",
              " (250, 14243),\n",
              " (250, 18597),\n",
              " (250, 29967),\n",
              " (250, 2429),\n",
              " (250, 9897),\n",
              " (250, 2230),\n",
              " (250, 6491),\n",
              " (250, 12625),\n",
              " (250, 2163),\n",
              " (250, 729),\n",
              " (250, 27881),\n",
              " (250, 13938),\n",
              " (250, 13558),\n",
              " (250, 399),\n",
              " (250, 19610),\n",
              " (250, 731),\n",
              " (301, 2230),\n",
              " (342, 2367),\n",
              " (342, 517),\n",
              " (398, 547),\n",
              " (398, 2171),\n",
              " (399, 555),\n",
              " (463, 2742),\n",
              " (463, 19600),\n",
              " (463, 801),\n",
              " (517, 2676),\n",
              " (535, 2230),\n",
              " (638, 29967),\n",
              " (638, 35232),\n",
              " (729, 2224),\n",
              " (729, 1798),\n",
              " (729, 1839),\n",
              " (2004, 2747),\n",
              " (2163, 2230),\n",
              " (2230, 22112),\n",
              " (2230, 4684),\n",
              " (2230, 16108),\n",
              " (2230, 12446),\n",
              " (2366, 5324),\n",
              " (2429, 15514),\n",
              " (2832, 6497),\n",
              " (3275, 35873),\n",
              " (3440, 6491),\n",
              " (5808, 21775),\n",
              " (6095, 13938),\n",
              " (6491, 34430),\n",
              " (6491, 29967),\n",
              " (6491, 18771),\n",
              " (6491, 23233),\n",
              " (6491, 10576),\n",
              " (6974, 29967),\n",
              " (9874, 19919),\n",
              " (13558, 13938),\n",
              " (13735, 14088),\n",
              " (13883, 14699),\n",
              " (13938, 18771),\n",
              " (13938, 19919),\n",
              " (15855, 18124),\n",
              " (16349, 25555),\n",
              " (16349, 25360),\n",
              " (18376, 26302),\n",
              " (18771, 27881),\n",
              " (18771, 29967),\n",
              " (20709, 29967),\n",
              " (22112, 29967),\n",
              " (24137, 38468),\n",
              " (28050, 30751),\n",
              " (29967, 32268),\n",
              " (29967, 39259),\n",
              " (30877, 31132),\n",
              " (34270, 46823),\n",
              " (44942, 44946),\n",
              " (48306, 55380)]"
            ]
          },
          "metadata": {},
          "execution_count": 34
        }
      ]
    },
    {
      "cell_type": "code",
      "source": [
        "df = pd.DataFrame(rq4.result_rows, columns=['Pregunta1Usuario', 'Pregunta2Usuario'])\n",
        "df"
      ],
      "metadata": {
        "colab": {
          "base_uri": "https://localhost:8080/",
          "height": 424
        },
        "id": "07uknAmWJ1Ig",
        "outputId": "f671ca17-fe21-4c1a-dcac-ee3be16eaf23"
      },
      "execution_count": 35,
      "outputs": [
        {
          "output_type": "execute_result",
          "data": {
            "text/plain": [
              "     Pregunta1Usuario  Pregunta2Usuario\n",
              "0                  21              1184\n",
              "1                  22               729\n",
              "2                  22               342\n",
              "3                  22               288\n",
              "4                  23                25\n",
              "..                ...               ...\n",
              "111             29967             39259\n",
              "112             30877             31132\n",
              "113             34270             46823\n",
              "114             44942             44946\n",
              "115             48306             55380\n",
              "\n",
              "[116 rows x 2 columns]"
            ],
            "text/html": [
              "\n",
              "  <div id=\"df-f6f27fe6-8fba-4d47-8111-f846c3c1d5c1\" class=\"colab-df-container\">\n",
              "    <div>\n",
              "<style scoped>\n",
              "    .dataframe tbody tr th:only-of-type {\n",
              "        vertical-align: middle;\n",
              "    }\n",
              "\n",
              "    .dataframe tbody tr th {\n",
              "        vertical-align: top;\n",
              "    }\n",
              "\n",
              "    .dataframe thead th {\n",
              "        text-align: right;\n",
              "    }\n",
              "</style>\n",
              "<table border=\"1\" class=\"dataframe\">\n",
              "  <thead>\n",
              "    <tr style=\"text-align: right;\">\n",
              "      <th></th>\n",
              "      <th>Pregunta1Usuario</th>\n",
              "      <th>Pregunta2Usuario</th>\n",
              "    </tr>\n",
              "  </thead>\n",
              "  <tbody>\n",
              "    <tr>\n",
              "      <th>0</th>\n",
              "      <td>21</td>\n",
              "      <td>1184</td>\n",
              "    </tr>\n",
              "    <tr>\n",
              "      <th>1</th>\n",
              "      <td>22</td>\n",
              "      <td>729</td>\n",
              "    </tr>\n",
              "    <tr>\n",
              "      <th>2</th>\n",
              "      <td>22</td>\n",
              "      <td>342</td>\n",
              "    </tr>\n",
              "    <tr>\n",
              "      <th>3</th>\n",
              "      <td>22</td>\n",
              "      <td>288</td>\n",
              "    </tr>\n",
              "    <tr>\n",
              "      <th>4</th>\n",
              "      <td>23</td>\n",
              "      <td>25</td>\n",
              "    </tr>\n",
              "    <tr>\n",
              "      <th>...</th>\n",
              "      <td>...</td>\n",
              "      <td>...</td>\n",
              "    </tr>\n",
              "    <tr>\n",
              "      <th>111</th>\n",
              "      <td>29967</td>\n",
              "      <td>39259</td>\n",
              "    </tr>\n",
              "    <tr>\n",
              "      <th>112</th>\n",
              "      <td>30877</td>\n",
              "      <td>31132</td>\n",
              "    </tr>\n",
              "    <tr>\n",
              "      <th>113</th>\n",
              "      <td>34270</td>\n",
              "      <td>46823</td>\n",
              "    </tr>\n",
              "    <tr>\n",
              "      <th>114</th>\n",
              "      <td>44942</td>\n",
              "      <td>44946</td>\n",
              "    </tr>\n",
              "    <tr>\n",
              "      <th>115</th>\n",
              "      <td>48306</td>\n",
              "      <td>55380</td>\n",
              "    </tr>\n",
              "  </tbody>\n",
              "</table>\n",
              "<p>116 rows × 2 columns</p>\n",
              "</div>\n",
              "    <div class=\"colab-df-buttons\">\n",
              "\n",
              "  <div class=\"colab-df-container\">\n",
              "    <button class=\"colab-df-convert\" onclick=\"convertToInteractive('df-f6f27fe6-8fba-4d47-8111-f846c3c1d5c1')\"\n",
              "            title=\"Convert this dataframe to an interactive table.\"\n",
              "            style=\"display:none;\">\n",
              "\n",
              "  <svg xmlns=\"http://www.w3.org/2000/svg\" height=\"24px\" viewBox=\"0 -960 960 960\">\n",
              "    <path d=\"M120-120v-720h720v720H120Zm60-500h600v-160H180v160Zm220 220h160v-160H400v160Zm0 220h160v-160H400v160ZM180-400h160v-160H180v160Zm440 0h160v-160H620v160ZM180-180h160v-160H180v160Zm440 0h160v-160H620v160Z\"/>\n",
              "  </svg>\n",
              "    </button>\n",
              "\n",
              "  <style>\n",
              "    .colab-df-container {\n",
              "      display:flex;\n",
              "      gap: 12px;\n",
              "    }\n",
              "\n",
              "    .colab-df-convert {\n",
              "      background-color: #E8F0FE;\n",
              "      border: none;\n",
              "      border-radius: 50%;\n",
              "      cursor: pointer;\n",
              "      display: none;\n",
              "      fill: #1967D2;\n",
              "      height: 32px;\n",
              "      padding: 0 0 0 0;\n",
              "      width: 32px;\n",
              "    }\n",
              "\n",
              "    .colab-df-convert:hover {\n",
              "      background-color: #E2EBFA;\n",
              "      box-shadow: 0px 1px 2px rgba(60, 64, 67, 0.3), 0px 1px 3px 1px rgba(60, 64, 67, 0.15);\n",
              "      fill: #174EA6;\n",
              "    }\n",
              "\n",
              "    .colab-df-buttons div {\n",
              "      margin-bottom: 4px;\n",
              "    }\n",
              "\n",
              "    [theme=dark] .colab-df-convert {\n",
              "      background-color: #3B4455;\n",
              "      fill: #D2E3FC;\n",
              "    }\n",
              "\n",
              "    [theme=dark] .colab-df-convert:hover {\n",
              "      background-color: #434B5C;\n",
              "      box-shadow: 0px 1px 3px 1px rgba(0, 0, 0, 0.15);\n",
              "      filter: drop-shadow(0px 1px 2px rgba(0, 0, 0, 0.3));\n",
              "      fill: #FFFFFF;\n",
              "    }\n",
              "  </style>\n",
              "\n",
              "    <script>\n",
              "      const buttonEl =\n",
              "        document.querySelector('#df-f6f27fe6-8fba-4d47-8111-f846c3c1d5c1 button.colab-df-convert');\n",
              "      buttonEl.style.display =\n",
              "        google.colab.kernel.accessAllowed ? 'block' : 'none';\n",
              "\n",
              "      async function convertToInteractive(key) {\n",
              "        const element = document.querySelector('#df-f6f27fe6-8fba-4d47-8111-f846c3c1d5c1');\n",
              "        const dataTable =\n",
              "          await google.colab.kernel.invokeFunction('convertToInteractive',\n",
              "                                                    [key], {});\n",
              "        if (!dataTable) return;\n",
              "\n",
              "        const docLinkHtml = 'Like what you see? Visit the ' +\n",
              "          '<a target=\"_blank\" href=https://colab.research.google.com/notebooks/data_table.ipynb>data table notebook</a>'\n",
              "          + ' to learn more about interactive tables.';\n",
              "        element.innerHTML = '';\n",
              "        dataTable['output_type'] = 'display_data';\n",
              "        await google.colab.output.renderOutput(dataTable, element);\n",
              "        const docLink = document.createElement('div');\n",
              "        docLink.innerHTML = docLinkHtml;\n",
              "        element.appendChild(docLink);\n",
              "      }\n",
              "    </script>\n",
              "  </div>\n",
              "\n",
              "\n",
              "<div id=\"df-aa665db1-456b-4a50-8110-cf13e930bd6b\">\n",
              "  <button class=\"colab-df-quickchart\" onclick=\"quickchart('df-aa665db1-456b-4a50-8110-cf13e930bd6b')\"\n",
              "            title=\"Suggest charts\"\n",
              "            style=\"display:none;\">\n",
              "\n",
              "<svg xmlns=\"http://www.w3.org/2000/svg\" height=\"24px\"viewBox=\"0 0 24 24\"\n",
              "     width=\"24px\">\n",
              "    <g>\n",
              "        <path d=\"M19 3H5c-1.1 0-2 .9-2 2v14c0 1.1.9 2 2 2h14c1.1 0 2-.9 2-2V5c0-1.1-.9-2-2-2zM9 17H7v-7h2v7zm4 0h-2V7h2v10zm4 0h-2v-4h2v4z\"/>\n",
              "    </g>\n",
              "</svg>\n",
              "  </button>\n",
              "\n",
              "<style>\n",
              "  .colab-df-quickchart {\n",
              "      --bg-color: #E8F0FE;\n",
              "      --fill-color: #1967D2;\n",
              "      --hover-bg-color: #E2EBFA;\n",
              "      --hover-fill-color: #174EA6;\n",
              "      --disabled-fill-color: #AAA;\n",
              "      --disabled-bg-color: #DDD;\n",
              "  }\n",
              "\n",
              "  [theme=dark] .colab-df-quickchart {\n",
              "      --bg-color: #3B4455;\n",
              "      --fill-color: #D2E3FC;\n",
              "      --hover-bg-color: #434B5C;\n",
              "      --hover-fill-color: #FFFFFF;\n",
              "      --disabled-bg-color: #3B4455;\n",
              "      --disabled-fill-color: #666;\n",
              "  }\n",
              "\n",
              "  .colab-df-quickchart {\n",
              "    background-color: var(--bg-color);\n",
              "    border: none;\n",
              "    border-radius: 50%;\n",
              "    cursor: pointer;\n",
              "    display: none;\n",
              "    fill: var(--fill-color);\n",
              "    height: 32px;\n",
              "    padding: 0;\n",
              "    width: 32px;\n",
              "  }\n",
              "\n",
              "  .colab-df-quickchart:hover {\n",
              "    background-color: var(--hover-bg-color);\n",
              "    box-shadow: 0 1px 2px rgba(60, 64, 67, 0.3), 0 1px 3px 1px rgba(60, 64, 67, 0.15);\n",
              "    fill: var(--button-hover-fill-color);\n",
              "  }\n",
              "\n",
              "  .colab-df-quickchart-complete:disabled,\n",
              "  .colab-df-quickchart-complete:disabled:hover {\n",
              "    background-color: var(--disabled-bg-color);\n",
              "    fill: var(--disabled-fill-color);\n",
              "    box-shadow: none;\n",
              "  }\n",
              "\n",
              "  .colab-df-spinner {\n",
              "    border: 2px solid var(--fill-color);\n",
              "    border-color: transparent;\n",
              "    border-bottom-color: var(--fill-color);\n",
              "    animation:\n",
              "      spin 1s steps(1) infinite;\n",
              "  }\n",
              "\n",
              "  @keyframes spin {\n",
              "    0% {\n",
              "      border-color: transparent;\n",
              "      border-bottom-color: var(--fill-color);\n",
              "      border-left-color: var(--fill-color);\n",
              "    }\n",
              "    20% {\n",
              "      border-color: transparent;\n",
              "      border-left-color: var(--fill-color);\n",
              "      border-top-color: var(--fill-color);\n",
              "    }\n",
              "    30% {\n",
              "      border-color: transparent;\n",
              "      border-left-color: var(--fill-color);\n",
              "      border-top-color: var(--fill-color);\n",
              "      border-right-color: var(--fill-color);\n",
              "    }\n",
              "    40% {\n",
              "      border-color: transparent;\n",
              "      border-right-color: var(--fill-color);\n",
              "      border-top-color: var(--fill-color);\n",
              "    }\n",
              "    60% {\n",
              "      border-color: transparent;\n",
              "      border-right-color: var(--fill-color);\n",
              "    }\n",
              "    80% {\n",
              "      border-color: transparent;\n",
              "      border-right-color: var(--fill-color);\n",
              "      border-bottom-color: var(--fill-color);\n",
              "    }\n",
              "    90% {\n",
              "      border-color: transparent;\n",
              "      border-bottom-color: var(--fill-color);\n",
              "    }\n",
              "  }\n",
              "</style>\n",
              "\n",
              "  <script>\n",
              "    async function quickchart(key) {\n",
              "      const quickchartButtonEl =\n",
              "        document.querySelector('#' + key + ' button');\n",
              "      quickchartButtonEl.disabled = true;  // To prevent multiple clicks.\n",
              "      quickchartButtonEl.classList.add('colab-df-spinner');\n",
              "      try {\n",
              "        const charts = await google.colab.kernel.invokeFunction(\n",
              "            'suggestCharts', [key], {});\n",
              "      } catch (error) {\n",
              "        console.error('Error during call to suggestCharts:', error);\n",
              "      }\n",
              "      quickchartButtonEl.classList.remove('colab-df-spinner');\n",
              "      quickchartButtonEl.classList.add('colab-df-quickchart-complete');\n",
              "    }\n",
              "    (() => {\n",
              "      let quickchartButtonEl =\n",
              "        document.querySelector('#df-aa665db1-456b-4a50-8110-cf13e930bd6b button');\n",
              "      quickchartButtonEl.style.display =\n",
              "        google.colab.kernel.accessAllowed ? 'block' : 'none';\n",
              "    })();\n",
              "  </script>\n",
              "</div>\n",
              "    </div>\n",
              "  </div>\n"
            ]
          },
          "metadata": {},
          "execution_count": 35
        }
      ]
    },
    {
      "cell_type": "markdown",
      "source": [
        "# Referencias\n",
        "\n",
        "https://vasexperts.com/es/resources/glossary/clickhouse/ (ClickHouse)\n",
        "\n",
        "https://www.adictosaltrabajo.com/2019/02/18/introduccion-a-clickhouse/#01 (Caracteristicas)\n",
        "\n",
        "https://clickhouse.com/docs/en/integrations/python (Instalación)\n",
        "\n",
        "\n"
      ],
      "metadata": {
        "id": "yV9OcNqLe1XM"
      }
    }
  ]
}